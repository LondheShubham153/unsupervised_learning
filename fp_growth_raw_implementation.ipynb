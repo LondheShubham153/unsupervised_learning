{
  "cells": [
    {
      "cell_type": "markdown",
      "metadata": {
        "id": "view-in-github",
        "colab_type": "text"
      },
      "source": [
        "<a href=\"https://colab.research.google.com/github/LondheShubham153/unsupervised_learning/blob/main/fp_growth_raw_implementation.ipynb\" target=\"_parent\"><img src=\"https://colab.research.google.com/assets/colab-badge.svg\" alt=\"Open In Colab\"/></a>"
      ]
    },
    {
      "cell_type": "code",
      "execution_count": 2,
      "id": "4d030ccc",
      "metadata": {
        "id": "4d030ccc"
      },
      "outputs": [],
      "source": [
        "def updateTree(items, inTree, headerTable, count):\n",
        "     if items[0] in inTree.childrens:\n",
        "         inTree.childrens[items[0]].inc(count) \n",
        "     else:   \n",
        "         inTree.childrens[items[0]] = nodes(items[0], count, inTree)\n",
        "         if headerTable[items[0]][1] == None: \n",
        "             headerTable[items[0]][1] = inTree.childrens[items[0]]\n",
        "         else:\n",
        "             updateHeader(headerTable[items[0]][1], inTree.childrens[items[0]])\n",
        "     if len(items) > 1:\n",
        "         updateTree(items[1::], inTree.childrens[items[0]], headerTable, count)\n"
      ]
    },
    {
      "cell_type": "code",
      "source": [
        "def updateHeader(nodeToTest, targetNode):   \n",
        "     while (nodeToTest.nodeLink != None):    \n",
        "         nodeToTest = nodeToTest.nodeLink\n",
        "     nodeToTest.nodeLink = nodes "
      ],
      "metadata": {
        "id": "qZOZf0XUdBSp"
      },
      "id": "qZOZf0XUdBSp",
      "execution_count": 3,
      "outputs": []
    },
    {
      "cell_type": "code",
      "execution_count": 4,
      "id": "1af8c124",
      "metadata": {
        "id": "1af8c124"
      },
      "outputs": [],
      "source": [
        "def loadSimpDat():\n",
        "     simpDat = [['Milk', 'Onion', 'Nutmeg', 'Kidney Beans', 'Eggs', 'Yogurt'],\n",
        "            ['Dill', 'Onion', 'Nutmeg', 'Kidney Beans', 'Eggs', 'Yogurt'],\n",
        "            ['Milk', 'Apple', 'Kidney Beans', 'Eggs'],\n",
        "            ['Milk', 'Unicorn', 'Corn', 'Kidney Beans', 'Yogurt'],\n",
        "            ['Corn', 'Onion', 'Onion', 'Kidney Beans', 'Ice cream', 'Eggs']]\n",
        "     return simpDat\n"
      ]
    },
    {
      "cell_type": "code",
      "source": [
        "def createInitSet(dataSet):\n",
        "     retDict = {}\n",
        "     for trans in dataSet:\n",
        "         retDict[frozenset(trans)] = 1\n",
        "     return retDict\n",
        "simpDat = loadSimpDat()\n",
        "initSet = createInitSet(simpDat)\n",
        "initSet "
      ],
      "metadata": {
        "colab": {
          "base_uri": "https://localhost:8080/"
        },
        "id": "jLC_iq1adDWa",
        "outputId": "6a1c60d3-b1b6-436d-a2da-47f278048e13"
      },
      "id": "jLC_iq1adDWa",
      "execution_count": 5,
      "outputs": [
        {
          "output_type": "execute_result",
          "data": {
            "text/plain": [
              "{frozenset({'Eggs', 'Kidney Beans', 'Milk', 'Nutmeg', 'Onion', 'Yogurt'}): 1,\n",
              " frozenset({'Dill', 'Eggs', 'Kidney Beans', 'Nutmeg', 'Onion', 'Yogurt'}): 1,\n",
              " frozenset({'Apple', 'Eggs', 'Kidney Beans', 'Milk'}): 1,\n",
              " frozenset({'Corn', 'Kidney Beans', 'Milk', 'Unicorn', 'Yogurt'}): 1,\n",
              " frozenset({'Corn', 'Eggs', 'Ice cream', 'Kidney Beans', 'Onion'}): 1}"
            ]
          },
          "metadata": {},
          "execution_count": 5
        }
      ]
    },
    {
      "cell_type": "code",
      "execution_count": null,
      "id": "b2c3d5af",
      "metadata": {
        "id": "b2c3d5af"
      },
      "outputs": [],
      "source": [
        ""
      ]
    }
  ],
  "metadata": {
    "kernelspec": {
      "display_name": "Python 3",
      "language": "python",
      "name": "python3"
    },
    "language_info": {
      "codemirror_mode": {
        "name": "ipython",
        "version": 3
      },
      "file_extension": ".py",
      "mimetype": "text/x-python",
      "name": "python",
      "nbconvert_exporter": "python",
      "pygments_lexer": "ipython3",
      "version": "3.8.8"
    },
    "colab": {
      "name": "fp_growth_raw_implementation.ipynb",
      "provenance": [],
      "include_colab_link": true
    }
  },
  "nbformat": 4,
  "nbformat_minor": 5
}