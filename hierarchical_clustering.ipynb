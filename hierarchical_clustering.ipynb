{
  "nbformat": 4,
  "nbformat_minor": 0,
  "metadata": {
    "colab": {
      "name": "hierarchical_clustering.ipynb",
      "provenance": [],
      "collapsed_sections": [],
      "include_colab_link": true
    },
    "kernelspec": {
      "name": "python3",
      "display_name": "Python 3"
    },
    "language_info": {
      "name": "python"
    }
  },
  "cells": [
    {
      "cell_type": "markdown",
      "metadata": {
        "id": "view-in-github",
        "colab_type": "text"
      },
      "source": [
        "<a href=\"https://colab.research.google.com/github/LondheShubham153/unsupervised_learning/blob/main/hierarchical_clustering.ipynb\" target=\"_parent\"><img src=\"https://colab.research.google.com/assets/colab-badge.svg\" alt=\"Open In Colab\"/></a>"
      ]
    },
    {
      "cell_type": "code",
      "metadata": {
        "id": "3garZccxHVM0"
      },
      "source": [
        "import numpy as np\n",
        "import pandas as pd\n",
        "import matplotlib.pyplot as plt\n",
        "%matplotlib inline\n",
        "import scipy.cluster.hierarchy as shc\n",
        "from scipy.spatial.distance import squareform, pdist"
      ],
      "execution_count": 26,
      "outputs": []
    },
    {
      "cell_type": "code",
      "metadata": {
        "id": "4ZXquPurHXmV"
      },
      "source": [
        "x = [0.41,0.22,0.34,0.25,0.50]\n",
        "y = [0.50,0.35,0.30,0.20,0.30]"
      ],
      "execution_count": 24,
      "outputs": []
    },
    {
      "cell_type": "code",
      "metadata": {
        "colab": {
          "base_uri": "https://localhost:8080/",
          "height": 258
        },
        "id": "wVeMr3_rJnO1",
        "outputId": "aae058ea-86b9-430e-8263-07114846e717"
      },
      "source": [
        "point = ['A1','A2','A3','A4','A5']\n",
        "data = pd.DataFrame({'Point':point, 'x':x, 'y':y})\n",
        "data = data.set_index('Point')\n",
        "data"
      ],
      "execution_count": 28,
      "outputs": [
        {
          "output_type": "execute_result",
          "data": {
            "text/html": [
              "<div>\n",
              "<style scoped>\n",
              "    .dataframe tbody tr th:only-of-type {\n",
              "        vertical-align: middle;\n",
              "    }\n",
              "\n",
              "    .dataframe tbody tr th {\n",
              "        vertical-align: top;\n",
              "    }\n",
              "\n",
              "    .dataframe thead th {\n",
              "        text-align: right;\n",
              "    }\n",
              "</style>\n",
              "<table border=\"1\" class=\"dataframe\">\n",
              "  <thead>\n",
              "    <tr style=\"text-align: right;\">\n",
              "      <th></th>\n",
              "      <th>x</th>\n",
              "      <th>y</th>\n",
              "    </tr>\n",
              "    <tr>\n",
              "      <th>Point</th>\n",
              "      <th></th>\n",
              "      <th></th>\n",
              "    </tr>\n",
              "  </thead>\n",
              "  <tbody>\n",
              "    <tr>\n",
              "      <th>A1</th>\n",
              "      <td>0.41</td>\n",
              "      <td>0.50</td>\n",
              "    </tr>\n",
              "    <tr>\n",
              "      <th>A2</th>\n",
              "      <td>0.22</td>\n",
              "      <td>0.35</td>\n",
              "    </tr>\n",
              "    <tr>\n",
              "      <th>A3</th>\n",
              "      <td>0.34</td>\n",
              "      <td>0.30</td>\n",
              "    </tr>\n",
              "    <tr>\n",
              "      <th>A4</th>\n",
              "      <td>0.25</td>\n",
              "      <td>0.20</td>\n",
              "    </tr>\n",
              "    <tr>\n",
              "      <th>A5</th>\n",
              "      <td>0.50</td>\n",
              "      <td>0.30</td>\n",
              "    </tr>\n",
              "  </tbody>\n",
              "</table>\n",
              "</div>"
            ],
            "text/plain": [
              "          x     y\n",
              "Point            \n",
              "A1     0.41  0.50\n",
              "A2     0.22  0.35\n",
              "A3     0.34  0.30\n",
              "A4     0.25  0.20\n",
              "A5     0.50  0.30"
            ]
          },
          "metadata": {},
          "execution_count": 28
        }
      ]
    },
    {
      "cell_type": "code",
      "metadata": {
        "colab": {
          "base_uri": "https://localhost:8080/",
          "height": 370
        },
        "id": "aO3whYoTJqDE",
        "outputId": "f11e9941-ed51-444d-e36d-0997ddce82bb"
      },
      "source": [
        "plt.figure(figsize=(8,5))\n",
        "plt.scatter(data['x'], data['y'], c='r', marker='*')\n",
        "plt.xlabel('Column x')\n",
        "plt.ylabel('column y')\n",
        "plt.title('Scatter Plot of x and y')\n",
        "for j in data.itertuples():\n",
        "    plt.annotate(j.Index, (j.x, j.y), fontsize=15)"
      ],
      "execution_count": 29,
      "outputs": [
        {
          "output_type": "display_data",
          "data": {
            "image/png": "[encoded data removed]",
            "text/plain": [
              "<Figure size 576x360 with 1 Axes>"
            ]
          },
          "metadata": {
            "needs_background": "light"
          }
        }
      ]
    },
    {
      "cell_type": "code",
      "metadata": {
        "colab": {
          "base_uri": "https://localhost:8080/",
          "height": 226
        },
        "id": "17nm_OifKiBC",
        "outputId": "0f8aaef9-52ed-4ef9-c534-51b87986d3b4"
      },
      "source": [
        "dist = pd.DataFrame(squareform(pdist(data[['x', 'y']]), 'euclidean'),\n",
        "                    columns=data.index.values, \n",
        "                    index=data.index.values)\n",
        "dist"
      ],
      "execution_count": null,
      "outputs": [
        {
          "output_type": "execute_result",
          "data": {
            "text/html": [
              "<div>\n",
              "<style scoped>\n",
              "    .dataframe tbody tr th:only-of-type {\n",
              "        vertical-align: middle;\n",
              "    }\n",
              "\n",
              "    .dataframe tbody tr th {\n",
              "        vertical-align: top;\n",
              "    }\n",
              "\n",
              "    .dataframe thead th {\n",
              "        text-align: right;\n",
              "    }\n",
              "</style>\n",
              "<table border=\"1\" class=\"dataframe\">\n",
              "  <thead>\n",
              "    <tr style=\"text-align: right;\">\n",
              "      <th></th>\n",
              "      <th>A1</th>\n",
              "      <th>A2</th>\n",
              "      <th>A3</th>\n",
              "      <th>A4</th>\n",
              "      <th>A5</th>\n",
              "    </tr>\n",
              "  </thead>\n",
              "  <tbody>\n",
              "    <tr>\n",
              "      <th>A1</th>\n",
              "      <td>0.000000</td>\n",
              "      <td>0.242074</td>\n",
              "      <td>0.211896</td>\n",
              "      <td>0.340000</td>\n",
              "      <td>0.219317</td>\n",
              "    </tr>\n",
              "    <tr>\n",
              "      <th>A2</th>\n",
              "      <td>0.242074</td>\n",
              "      <td>0.000000</td>\n",
              "      <td>0.130000</td>\n",
              "      <td>0.152971</td>\n",
              "      <td>0.284429</td>\n",
              "    </tr>\n",
              "    <tr>\n",
              "      <th>A3</th>\n",
              "      <td>0.211896</td>\n",
              "      <td>0.130000</td>\n",
              "      <td>0.000000</td>\n",
              "      <td>0.134536</td>\n",
              "      <td>0.160000</td>\n",
              "    </tr>\n",
              "    <tr>\n",
              "      <th>A4</th>\n",
              "      <td>0.340000</td>\n",
              "      <td>0.152971</td>\n",
              "      <td>0.134536</td>\n",
              "      <td>0.000000</td>\n",
              "      <td>0.269258</td>\n",
              "    </tr>\n",
              "    <tr>\n",
              "      <th>A5</th>\n",
              "      <td>0.219317</td>\n",
              "      <td>0.284429</td>\n",
              "      <td>0.160000</td>\n",
              "      <td>0.269258</td>\n",
              "      <td>0.000000</td>\n",
              "    </tr>\n",
              "  </tbody>\n",
              "</table>\n",
              "</div>"
            ],
            "text/plain": [
              "          A1        A2        A3        A4        A5\n",
              "A1  0.000000  0.242074  0.211896  0.340000  0.219317\n",
              "A2  0.242074  0.000000  0.130000  0.152971  0.284429\n",
              "A3  0.211896  0.130000  0.000000  0.134536  0.160000\n",
              "A4  0.340000  0.152971  0.134536  0.000000  0.269258\n",
              "A5  0.219317  0.284429  0.160000  0.269258  0.000000"
            ]
          },
          "metadata": {},
          "execution_count": 21
        }
      ]
    },
    {
      "cell_type": "code",
      "metadata": {
        "colab": {
          "base_uri": "https://localhost:8080/",
          "height": 360
        },
        "id": "NIaQCguFK4RK",
        "outputId": "227eec18-c891-4eaf-82fe-7dd414027901"
      },
      "source": [
        "plt.figure(figsize=(12,5)) \n",
        "plt.title(\"Dendrogram (Single Linkage)\")  \n",
        "dend = shc.dendrogram(shc.linkage(data[['x', 'y']], method='single'), labels=data.index)"
      ],
      "execution_count": null,
      "outputs": [
        {
          "output_type": "display_data",
          "data": {
            "image/png": "[encoded data removed]",
            "text/plain": [
              "<Figure size 864x360 with 1 Axes>"
            ]
          },
          "metadata": {
            "needs_background": "light"
          }
        }
      ]
    }
  ]
}