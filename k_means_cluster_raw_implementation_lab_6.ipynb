{
  "nbformat": 4,
  "nbformat_minor": 0,
  "metadata": {
    "kernelspec": {
      "display_name": "Python 3",
      "language": "python",
      "name": "python3"
    },
    "language_info": {
      "codemirror_mode": {
        "name": "ipython",
        "version": 3
      },
      "file_extension": ".py",
      "mimetype": "text/x-python",
      "name": "python",
      "nbconvert_exporter": "python",
      "pygments_lexer": "ipython3",
      "version": "3.8.8"
    },
    "colab": {
      "name": "k_means_cluster_raw_implementation_lab_6.ipynb",
      "provenance": [],
      "include_colab_link": true
    }
  },
  "cells": [
    {
      "cell_type": "markdown",
      "metadata": {
        "id": "view-in-github",
        "colab_type": "text"
      },
      "source": [
        "<a href=\"https://colab.research.google.com/github/LondheShubham153/unsupervised_learning/blob/main/k_means_cluster_raw_implementation_lab_6.ipynb\" target=\"_parent\"><img src=\"https://colab.research.google.com/assets/colab-badge.svg\" alt=\"Open In Colab\"/></a>"
      ]
    },
    {
      "cell_type": "markdown",
      "metadata": {
        "id": "86DUu0wncuUO"
      },
      "source": [
        "# 1. K-Means (Raw Implementation)"
      ]
    },
    {
      "cell_type": "markdown",
      "metadata": {
        "id": "wsK0xtTjcuUQ"
      },
      "source": [
        "# Load libraries and Dataset"
      ]
    },
    {
      "cell_type": "code",
      "metadata": {
        "id": "XBWCpdVMcuUR"
      },
      "source": [
        "import pandas as pd\n",
        "import numpy as np\n",
        "import matplotlib.pyplot as plt\n",
        "%matplotlib inline"
      ],
      "execution_count": null,
      "outputs": []
    },
    {
      "cell_type": "code",
      "metadata": {
        "id": "LGjPz3WdcuUS",
        "outputId": "e1089f72-0fc4-4622-db7a-37e476521d24"
      },
      "source": [
        "df = pd.read_csv('data.csv')\n",
        "df.head(2)"
      ],
      "execution_count": null,
      "outputs": [
        {
          "data": {
            "text/html": [
              "<div>\n",
              "<style scoped>\n",
              "    .dataframe tbody tr th:only-of-type {\n",
              "        vertical-align: middle;\n",
              "    }\n",
              "\n",
              "    .dataframe tbody tr th {\n",
              "        vertical-align: top;\n",
              "    }\n",
              "\n",
              "    .dataframe thead th {\n",
              "        text-align: right;\n",
              "    }\n",
              "</style>\n",
              "<table border=\"1\" class=\"dataframe\">\n",
              "  <thead>\n",
              "    <tr style=\"text-align: right;\">\n",
              "      <th></th>\n",
              "      <th>x</th>\n",
              "      <th>y</th>\n",
              "    </tr>\n",
              "  </thead>\n",
              "  <tbody>\n",
              "    <tr>\n",
              "      <th>0</th>\n",
              "      <td>12</td>\n",
              "      <td>39</td>\n",
              "    </tr>\n",
              "    <tr>\n",
              "      <th>1</th>\n",
              "      <td>20</td>\n",
              "      <td>36</td>\n",
              "    </tr>\n",
              "  </tbody>\n",
              "</table>\n",
              "</div>"
            ],
            "text/plain": [
              "    x   y\n",
              "0  12  39\n",
              "1  20  36"
            ]
          },
          "execution_count": 2,
          "metadata": {},
          "output_type": "execute_result"
        }
      ]
    },
    {
      "cell_type": "markdown",
      "metadata": {
        "id": "tVAluw5ucuUT"
      },
      "source": [
        "# Define Random Centroids"
      ]
    },
    {
      "cell_type": "code",
      "metadata": {
        "id": "pCyzIFticuUT"
      },
      "source": [
        "# centroids_1 = {1: [25, 45], 2: [50, 65], 3: [65, 15]}\n",
        "centroids_1 = {1: [10, 10], 2: [30, 30], 3: [50, 50]} # One centroid disappears"
      ],
      "execution_count": null,
      "outputs": []
    },
    {
      "cell_type": "markdown",
      "metadata": {
        "id": "6B4w6shscuUU"
      },
      "source": [
        "# Plot Observations and Centroids"
      ]
    },
    {
      "cell_type": "code",
      "metadata": {
        "id": "QAYq_JEbcuUU",
        "outputId": "df8fb8e5-750b-4f3b-d1af-63b70e3c0bd1"
      },
      "source": [
        "fig = plt.figure(figsize=(10, 5))\n",
        "\n",
        "plt.scatter(df['x'], df['y'], c='black', alpha=0.8, edgecolor='c')\n",
        "\n",
        "plt.plot(centroids_1[1][0], centroids_1[1][1], 'x', markersize=20, color='red', label='New 1')  \n",
        "plt.plot(centroids_1[2][0], centroids_1[2][1], 'x', markersize=20, color='cyan', label='New 2')  \n",
        "plt.plot(centroids_1[3][0], centroids_1[3][1], 'x', markersize=20, color='green', label='New 3')  \n",
        "\n",
        "plt.legend()\n",
        "plt.xlim(0, 80)\n",
        "plt.ylim(0, 80)\n",
        "plt.show()"
      ],
      "execution_count": null,
      "outputs": [
        {
          "data": {
            "image/png": "[encoded data removed]",
            "text/plain": [
              "<Figure size 720x360 with 1 Axes>"
            ]
          },
          "metadata": {
            "needs_background": "light"
          },
          "output_type": "display_data"
        }
      ]
    },
    {
      "cell_type": "markdown",
      "metadata": {
        "id": "bwEMAQ1NcuUV"
      },
      "source": [
        "# Calculate Distance from Centroids"
      ]
    },
    {
      "cell_type": "code",
      "metadata": {
        "id": "NvrPGVVJcuUW",
        "outputId": "16de2af8-3a3f-492f-e33c-578e8c05c724"
      },
      "source": [
        "def distance_from_centroids(df, centroids):\n",
        "            \n",
        "    df['euclidean_distance_from_1'] = np.sqrt(\n",
        "                                        (df['x'] - centroids[1][0]) ** 2\n",
        "                                        + (df['y'] - centroids[1][1]) ** 2\n",
        "                                        )\n",
        "\n",
        "    df['euclidean_distance_from_2'] = np.sqrt(\n",
        "                                        (df['x'] - centroids[2][0]) ** 2\n",
        "                                        + (df['y'] - centroids[2][1]) ** 2\n",
        "                                        )\n",
        "    df['euclidean_distance_from_3'] = np.sqrt(\n",
        "                                        (df['x'] - centroids[3][0]) ** 2\n",
        "                                        + (df['y'] - centroids[3][1]) ** 2\n",
        "                                        )\n",
        "    return df\n",
        "\n",
        "df = distance_from_centroids(df, centroids_1)\n",
        "df.head(2)"
      ],
      "execution_count": null,
      "outputs": [
        {
          "data": {
            "text/html": [
              "<div>\n",
              "<style scoped>\n",
              "    .dataframe tbody tr th:only-of-type {\n",
              "        vertical-align: middle;\n",
              "    }\n",
              "\n",
              "    .dataframe tbody tr th {\n",
              "        vertical-align: top;\n",
              "    }\n",
              "\n",
              "    .dataframe thead th {\n",
              "        text-align: right;\n",
              "    }\n",
              "</style>\n",
              "<table border=\"1\" class=\"dataframe\">\n",
              "  <thead>\n",
              "    <tr style=\"text-align: right;\">\n",
              "      <th></th>\n",
              "      <th>x</th>\n",
              "      <th>y</th>\n",
              "      <th>euclidean_distance_from_1</th>\n",
              "      <th>euclidean_distance_from_2</th>\n",
              "      <th>euclidean_distance_from_3</th>\n",
              "    </tr>\n",
              "  </thead>\n",
              "  <tbody>\n",
              "    <tr>\n",
              "      <th>0</th>\n",
              "      <td>12</td>\n",
              "      <td>39</td>\n",
              "      <td>29.068884</td>\n",
              "      <td>20.124612</td>\n",
              "      <td>39.560081</td>\n",
              "    </tr>\n",
              "    <tr>\n",
              "      <th>1</th>\n",
              "      <td>20</td>\n",
              "      <td>36</td>\n",
              "      <td>27.856777</td>\n",
              "      <td>11.661904</td>\n",
              "      <td>33.105891</td>\n",
              "    </tr>\n",
              "  </tbody>\n",
              "</table>\n",
              "</div>"
            ],
            "text/plain": [
              "    x   y  euclidean_distance_from_1  euclidean_distance_from_2  \\\n",
              "0  12  39                  29.068884                  20.124612   \n",
              "1  20  36                  27.856777                  11.661904   \n",
              "\n",
              "   euclidean_distance_from_3  \n",
              "0                  39.560081  \n",
              "1                  33.105891  "
            ]
          },
          "execution_count": 5,
          "metadata": {},
          "output_type": "execute_result"
        }
      ]
    },
    {
      "cell_type": "markdown",
      "metadata": {
        "id": "42h8Cb3IcuUW"
      },
      "source": [
        "# Tag Observations to Nearest Centroid"
      ]
    },
    {
      "cell_type": "code",
      "metadata": {
        "id": "04JnqtyscuUW",
        "outputId": "cfea2132-95a6-4c22-a68a-70e92a106b97"
      },
      "source": [
        "def tag_to_centroid(df):\n",
        "    \n",
        "    df['closest'] = df[['euclidean_distance_from_1', 'euclidean_distance_from_2', 'euclidean_distance_from_3']].idxmin(axis=\"columns\")\n",
        "    df['closest'] = df['closest'].str.lstrip('euclidean_distance_from_')\n",
        "    \n",
        "tag_to_centroid(df)\n",
        "df.head(2)"
      ],
      "execution_count": null,
      "outputs": [
        {
          "data": {
            "text/html": [
              "<div>\n",
              "<style scoped>\n",
              "    .dataframe tbody tr th:only-of-type {\n",
              "        vertical-align: middle;\n",
              "    }\n",
              "\n",
              "    .dataframe tbody tr th {\n",
              "        vertical-align: top;\n",
              "    }\n",
              "\n",
              "    .dataframe thead th {\n",
              "        text-align: right;\n",
              "    }\n",
              "</style>\n",
              "<table border=\"1\" class=\"dataframe\">\n",
              "  <thead>\n",
              "    <tr style=\"text-align: right;\">\n",
              "      <th></th>\n",
              "      <th>x</th>\n",
              "      <th>y</th>\n",
              "      <th>euclidean_distance_from_1</th>\n",
              "      <th>euclidean_distance_from_2</th>\n",
              "      <th>euclidean_distance_from_3</th>\n",
              "      <th>closest</th>\n",
              "    </tr>\n",
              "  </thead>\n",
              "  <tbody>\n",
              "    <tr>\n",
              "      <th>0</th>\n",
              "      <td>12</td>\n",
              "      <td>39</td>\n",
              "      <td>29.068884</td>\n",
              "      <td>20.124612</td>\n",
              "      <td>39.560081</td>\n",
              "      <td>2</td>\n",
              "    </tr>\n",
              "    <tr>\n",
              "      <th>1</th>\n",
              "      <td>20</td>\n",
              "      <td>36</td>\n",
              "      <td>27.856777</td>\n",
              "      <td>11.661904</td>\n",
              "      <td>33.105891</td>\n",
              "      <td>2</td>\n",
              "    </tr>\n",
              "  </tbody>\n",
              "</table>\n",
              "</div>"
            ],
            "text/plain": [
              "    x   y  euclidean_distance_from_1  euclidean_distance_from_2  \\\n",
              "0  12  39                  29.068884                  20.124612   \n",
              "1  20  36                  27.856777                  11.661904   \n",
              "\n",
              "   euclidean_distance_from_3 closest  \n",
              "0                  39.560081       2  \n",
              "1                  33.105891       2  "
            ]
          },
          "execution_count": 6,
          "metadata": {},
          "output_type": "execute_result"
        }
      ]
    },
    {
      "cell_type": "code",
      "metadata": {
        "id": "a2LraQ1BcuUX",
        "outputId": "ecdcdacb-31d1-406f-9fac-afd0a82ffcfd"
      },
      "source": [
        "df['closest'] = pd.to_numeric(df['closest'])\n",
        "df.head(10)"
      ],
      "execution_count": null,
      "outputs": [
        {
          "data": {
            "text/html": [
              "<div>\n",
              "<style scoped>\n",
              "    .dataframe tbody tr th:only-of-type {\n",
              "        vertical-align: middle;\n",
              "    }\n",
              "\n",
              "    .dataframe tbody tr th {\n",
              "        vertical-align: top;\n",
              "    }\n",
              "\n",
              "    .dataframe thead th {\n",
              "        text-align: right;\n",
              "    }\n",
              "</style>\n",
              "<table border=\"1\" class=\"dataframe\">\n",
              "  <thead>\n",
              "    <tr style=\"text-align: right;\">\n",
              "      <th></th>\n",
              "      <th>x</th>\n",
              "      <th>y</th>\n",
              "      <th>euclidean_distance_from_1</th>\n",
              "      <th>euclidean_distance_from_2</th>\n",
              "      <th>euclidean_distance_from_3</th>\n",
              "      <th>closest</th>\n",
              "    </tr>\n",
              "  </thead>\n",
              "  <tbody>\n",
              "    <tr>\n",
              "      <th>0</th>\n",
              "      <td>12</td>\n",
              "      <td>39</td>\n",
              "      <td>29.068884</td>\n",
              "      <td>20.124612</td>\n",
              "      <td>39.560081</td>\n",
              "      <td>2</td>\n",
              "    </tr>\n",
              "    <tr>\n",
              "      <th>1</th>\n",
              "      <td>20</td>\n",
              "      <td>36</td>\n",
              "      <td>27.856777</td>\n",
              "      <td>11.661904</td>\n",
              "      <td>33.105891</td>\n",
              "      <td>2</td>\n",
              "    </tr>\n",
              "    <tr>\n",
              "      <th>2</th>\n",
              "      <td>28</td>\n",
              "      <td>30</td>\n",
              "      <td>26.907248</td>\n",
              "      <td>2.000000</td>\n",
              "      <td>29.732137</td>\n",
              "      <td>2</td>\n",
              "    </tr>\n",
              "    <tr>\n",
              "      <th>3</th>\n",
              "      <td>18</td>\n",
              "      <td>52</td>\n",
              "      <td>42.755117</td>\n",
              "      <td>25.059928</td>\n",
              "      <td>32.062439</td>\n",
              "      <td>2</td>\n",
              "    </tr>\n",
              "    <tr>\n",
              "      <th>4</th>\n",
              "      <td>29</td>\n",
              "      <td>54</td>\n",
              "      <td>47.927028</td>\n",
              "      <td>24.020824</td>\n",
              "      <td>21.377558</td>\n",
              "      <td>3</td>\n",
              "    </tr>\n",
              "    <tr>\n",
              "      <th>5</th>\n",
              "      <td>33</td>\n",
              "      <td>46</td>\n",
              "      <td>42.720019</td>\n",
              "      <td>16.278821</td>\n",
              "      <td>17.464249</td>\n",
              "      <td>2</td>\n",
              "    </tr>\n",
              "    <tr>\n",
              "      <th>6</th>\n",
              "      <td>24</td>\n",
              "      <td>55</td>\n",
              "      <td>47.127487</td>\n",
              "      <td>25.709920</td>\n",
              "      <td>26.476405</td>\n",
              "      <td>2</td>\n",
              "    </tr>\n",
              "    <tr>\n",
              "      <th>7</th>\n",
              "      <td>45</td>\n",
              "      <td>59</td>\n",
              "      <td>60.216277</td>\n",
              "      <td>32.649655</td>\n",
              "      <td>10.295630</td>\n",
              "      <td>3</td>\n",
              "    </tr>\n",
              "    <tr>\n",
              "      <th>8</th>\n",
              "      <td>45</td>\n",
              "      <td>63</td>\n",
              "      <td>63.513778</td>\n",
              "      <td>36.249138</td>\n",
              "      <td>13.928388</td>\n",
              "      <td>3</td>\n",
              "    </tr>\n",
              "    <tr>\n",
              "      <th>9</th>\n",
              "      <td>52</td>\n",
              "      <td>70</td>\n",
              "      <td>73.239334</td>\n",
              "      <td>45.650849</td>\n",
              "      <td>20.099751</td>\n",
              "      <td>3</td>\n",
              "    </tr>\n",
              "  </tbody>\n",
              "</table>\n",
              "</div>"
            ],
            "text/plain": [
              "    x   y  euclidean_distance_from_1  euclidean_distance_from_2  \\\n",
              "0  12  39                  29.068884                  20.124612   \n",
              "1  20  36                  27.856777                  11.661904   \n",
              "2  28  30                  26.907248                   2.000000   \n",
              "3  18  52                  42.755117                  25.059928   \n",
              "4  29  54                  47.927028                  24.020824   \n",
              "5  33  46                  42.720019                  16.278821   \n",
              "6  24  55                  47.127487                  25.709920   \n",
              "7  45  59                  60.216277                  32.649655   \n",
              "8  45  63                  63.513778                  36.249138   \n",
              "9  52  70                  73.239334                  45.650849   \n",
              "\n",
              "   euclidean_distance_from_3  closest  \n",
              "0                  39.560081        2  \n",
              "1                  33.105891        2  \n",
              "2                  29.732137        2  \n",
              "3                  32.062439        2  \n",
              "4                  21.377558        3  \n",
              "5                  17.464249        2  \n",
              "6                  26.476405        2  \n",
              "7                  10.295630        3  \n",
              "8                  13.928388        3  \n",
              "9                  20.099751        3  "
            ]
          },
          "execution_count": 7,
          "metadata": {},
          "output_type": "execute_result"
        }
      ]
    },
    {
      "cell_type": "markdown",
      "metadata": {
        "id": "A0LUMCt1cuUX"
      },
      "source": [
        "# Plot Tagged Observations"
      ]
    },
    {
      "cell_type": "code",
      "metadata": {
        "id": "BzGamz3scuUX",
        "outputId": "7978d6b1-3955-44bf-b092-c7c922cf9c54"
      },
      "source": [
        "fig = plt.figure(figsize=(10, 5))\n",
        "\n",
        "plt.scatter(df['x'], df['y'], c=df['closest'], alpha=0.8)\n",
        "\n",
        "plt.plot(centroids_1[1][0], centroids_1[1][1], 'x', markersize=20, color='red', label='Centroid 1')  \n",
        "plt.plot(centroids_1[2][0], centroids_1[2][1], 'x', markersize=20, color='cyan', label='Centroid 2')  \n",
        "plt.plot(centroids_1[3][0], centroids_1[3][1], 'x', markersize=20, color='green', label='Centroid 3')  \n",
        "\n",
        "plt.legend()\n",
        "plt.xlim(0, 80)\n",
        "plt.ylim(0, 80)\n",
        "plt.show()"
      ],
      "execution_count": null,
      "outputs": [
        {
          "data": {
            "image/png": "[encoded data removed]",
            "text/plain": [
              "<Figure size 720x360 with 1 Axes>"
            ]
          },
          "metadata": {
            "needs_background": "light"
          },
          "output_type": "display_data"
        }
      ]
    },
    {
      "cell_type": "markdown",
      "metadata": {
        "id": "8VLAqnpHcuUY"
      },
      "source": [
        "# Calculate New Centroids"
      ]
    },
    {
      "cell_type": "code",
      "metadata": {
        "id": "RBR5RwCmcuUY"
      },
      "source": [
        "import copy\n",
        "\n",
        "old_centroids = copy.deepcopy(centroids_1)\n",
        "\n",
        "def update(k):\n",
        "    for i in k.keys():\n",
        "        k[i][0] = np.mean(df[df['closest'] == i]['x'])\n",
        "        k[i][1] = np.mean(df[df['closest'] == i]['y'])\n",
        "        \n",
        "    return k"
      ],
      "execution_count": null,
      "outputs": []
    },
    {
      "cell_type": "code",
      "metadata": {
        "id": "wckhF9lBcuUY",
        "outputId": "bc32cd40-ea1a-442d-da1c-397571c0aad3"
      },
      "source": [
        "centroids_2 = update(old_centroids)\n",
        "print('New Centroids:', centroids_2)\n",
        "print('Old Centroids:', centroids_1)"
      ],
      "execution_count": null,
      "outputs": [
        {
          "name": "stdout",
          "output_type": "stream",
          "text": [
            "New Centroids: {1: [nan, nan], 2: [37.3, 31.0], 3: [51.666666666666664, 52.888888888888886]}\n",
            "Old Centroids: {1: [10, 10], 2: [30, 30], 3: [50, 50]}\n"
          ]
        }
      ]
    },
    {
      "cell_type": "markdown",
      "metadata": {
        "id": "3tDQEE6QcuUY"
      },
      "source": [
        "# Plot New Centroids and Tagged Observations"
      ]
    },
    {
      "cell_type": "code",
      "metadata": {
        "id": "9G8c1wZKcuUY",
        "outputId": "f12dd278-e602-4e34-b73f-680b7c8992d2"
      },
      "source": [
        "fig = plt.figure(figsize=(10, 5))\n",
        "\n",
        "plt.scatter(df['x'], df['y'], c=df['closest'], alpha=0.8)\n",
        "\n",
        "plt.plot(centroids_2[1][0], centroids_2[1][1], 'x', markersize=20, color='red', label='New 1')  \n",
        "plt.plot(centroids_2[2][0], centroids_2[2][1], 'x', markersize=20, color='black', label='New 2')  \n",
        "plt.plot(centroids_2[3][0], centroids_2[3][1], 'x', markersize=20, color='green', label='New 3')  \n",
        "\n",
        "plt.plot(centroids_1[1][0], centroids_1[1][1], 'x', markersize=10, color='red', label='Old 1')  \n",
        "plt.plot(centroids_1[2][0], centroids_1[2][1], 'x', markersize=10, color='black', label='Old 2')  \n",
        "plt.plot(centroids_1[3][0], centroids_1[3][1], 'x', markersize=10, color='green', label='Old 3')  \n",
        "\n",
        "plt.legend()\n",
        "plt.xlim(0, 80)\n",
        "plt.ylim(0, 80)\n",
        "plt.show()"
      ],
      "execution_count": null,
      "outputs": [
        {
          "data": {
            "image/png": "[encoded data removed]",
            "text/plain": [
              "<Figure size 720x360 with 1 Axes>"
            ]
          },
          "metadata": {
            "needs_background": "light"
          },
          "output_type": "display_data"
        }
      ]
    },
    {
      "cell_type": "markdown",
      "metadata": {
        "id": "AIYnbO6lcuUZ"
      },
      "source": [
        "# Calculate Distance from Centroids"
      ]
    },
    {
      "cell_type": "code",
      "metadata": {
        "id": "RisE2cTPcuUZ",
        "outputId": "87b4a7fc-7d92-4ece-cfb5-46caafc29e0b"
      },
      "source": [
        "df = distance_from_centroids(df, centroids_2)\n",
        "df.head(10)"
      ],
      "execution_count": null,
      "outputs": [
        {
          "data": {
            "text/html": [
              "<div>\n",
              "<style scoped>\n",
              "    .dataframe tbody tr th:only-of-type {\n",
              "        vertical-align: middle;\n",
              "    }\n",
              "\n",
              "    .dataframe tbody tr th {\n",
              "        vertical-align: top;\n",
              "    }\n",
              "\n",
              "    .dataframe thead th {\n",
              "        text-align: right;\n",
              "    }\n",
              "</style>\n",
              "<table border=\"1\" class=\"dataframe\">\n",
              "  <thead>\n",
              "    <tr style=\"text-align: right;\">\n",
              "      <th></th>\n",
              "      <th>x</th>\n",
              "      <th>y</th>\n",
              "      <th>euclidean_distance_from_1</th>\n",
              "      <th>euclidean_distance_from_2</th>\n",
              "      <th>euclidean_distance_from_3</th>\n",
              "      <th>closest</th>\n",
              "    </tr>\n",
              "  </thead>\n",
              "  <tbody>\n",
              "    <tr>\n",
              "      <th>0</th>\n",
              "      <td>12</td>\n",
              "      <td>39</td>\n",
              "      <td>NaN</td>\n",
              "      <td>26.534694</td>\n",
              "      <td>42.027915</td>\n",
              "      <td>2</td>\n",
              "    </tr>\n",
              "    <tr>\n",
              "      <th>1</th>\n",
              "      <td>20</td>\n",
              "      <td>36</td>\n",
              "      <td>NaN</td>\n",
              "      <td>18.008054</td>\n",
              "      <td>35.888889</td>\n",
              "      <td>2</td>\n",
              "    </tr>\n",
              "    <tr>\n",
              "      <th>2</th>\n",
              "      <td>28</td>\n",
              "      <td>30</td>\n",
              "      <td>NaN</td>\n",
              "      <td>9.353609</td>\n",
              "      <td>32.924343</td>\n",
              "      <td>2</td>\n",
              "    </tr>\n",
              "    <tr>\n",
              "      <th>3</th>\n",
              "      <td>18</td>\n",
              "      <td>52</td>\n",
              "      <td>NaN</td>\n",
              "      <td>28.521746</td>\n",
              "      <td>33.678399</td>\n",
              "      <td>2</td>\n",
              "    </tr>\n",
              "    <tr>\n",
              "      <th>4</th>\n",
              "      <td>29</td>\n",
              "      <td>54</td>\n",
              "      <td>NaN</td>\n",
              "      <td>24.451789</td>\n",
              "      <td>22.693883</td>\n",
              "      <td>3</td>\n",
              "    </tr>\n",
              "    <tr>\n",
              "      <th>5</th>\n",
              "      <td>33</td>\n",
              "      <td>46</td>\n",
              "      <td>NaN</td>\n",
              "      <td>15.604166</td>\n",
              "      <td>19.897267</td>\n",
              "      <td>2</td>\n",
              "    </tr>\n",
              "    <tr>\n",
              "      <th>6</th>\n",
              "      <td>24</td>\n",
              "      <td>55</td>\n",
              "      <td>NaN</td>\n",
              "      <td>27.438841</td>\n",
              "      <td>27.747094</td>\n",
              "      <td>2</td>\n",
              "    </tr>\n",
              "    <tr>\n",
              "      <th>7</th>\n",
              "      <td>45</td>\n",
              "      <td>59</td>\n",
              "      <td>NaN</td>\n",
              "      <td>29.039456</td>\n",
              "      <td>9.043789</td>\n",
              "      <td>3</td>\n",
              "    </tr>\n",
              "    <tr>\n",
              "      <th>8</th>\n",
              "      <td>45</td>\n",
              "      <td>63</td>\n",
              "      <td>NaN</td>\n",
              "      <td>32.913371</td>\n",
              "      <td>12.111111</td>\n",
              "      <td>3</td>\n",
              "    </tr>\n",
              "    <tr>\n",
              "      <th>9</th>\n",
              "      <td>52</td>\n",
              "      <td>70</td>\n",
              "      <td>NaN</td>\n",
              "      <td>41.678412</td>\n",
              "      <td>17.114358</td>\n",
              "      <td>3</td>\n",
              "    </tr>\n",
              "  </tbody>\n",
              "</table>\n",
              "</div>"
            ],
            "text/plain": [
              "    x   y  euclidean_distance_from_1  euclidean_distance_from_2  \\\n",
              "0  12  39                        NaN                  26.534694   \n",
              "1  20  36                        NaN                  18.008054   \n",
              "2  28  30                        NaN                   9.353609   \n",
              "3  18  52                        NaN                  28.521746   \n",
              "4  29  54                        NaN                  24.451789   \n",
              "5  33  46                        NaN                  15.604166   \n",
              "6  24  55                        NaN                  27.438841   \n",
              "7  45  59                        NaN                  29.039456   \n",
              "8  45  63                        NaN                  32.913371   \n",
              "9  52  70                        NaN                  41.678412   \n",
              "\n",
              "   euclidean_distance_from_3  closest  \n",
              "0                  42.027915        2  \n",
              "1                  35.888889        2  \n",
              "2                  32.924343        2  \n",
              "3                  33.678399        2  \n",
              "4                  22.693883        3  \n",
              "5                  19.897267        2  \n",
              "6                  27.747094        2  \n",
              "7                   9.043789        3  \n",
              "8                  12.111111        3  \n",
              "9                  17.114358        3  "
            ]
          },
          "execution_count": 12,
          "metadata": {},
          "output_type": "execute_result"
        }
      ]
    },
    {
      "cell_type": "markdown",
      "metadata": {
        "id": "m8cmvlddcuUZ"
      },
      "source": [
        "# Tag Observations to Nearest Centroid"
      ]
    },
    {
      "cell_type": "code",
      "metadata": {
        "id": "qZ1-e3gMcuUZ",
        "outputId": "401d09e1-544d-4aa1-f6dc-c9a5f48c5239"
      },
      "source": [
        "tag_to_centroid(df)\n",
        "df.head(10)"
      ],
      "execution_count": null,
      "outputs": [
        {
          "data": {
            "text/html": [
              "<div>\n",
              "<style scoped>\n",
              "    .dataframe tbody tr th:only-of-type {\n",
              "        vertical-align: middle;\n",
              "    }\n",
              "\n",
              "    .dataframe tbody tr th {\n",
              "        vertical-align: top;\n",
              "    }\n",
              "\n",
              "    .dataframe thead th {\n",
              "        text-align: right;\n",
              "    }\n",
              "</style>\n",
              "<table border=\"1\" class=\"dataframe\">\n",
              "  <thead>\n",
              "    <tr style=\"text-align: right;\">\n",
              "      <th></th>\n",
              "      <th>x</th>\n",
              "      <th>y</th>\n",
              "      <th>euclidean_distance_from_1</th>\n",
              "      <th>euclidean_distance_from_2</th>\n",
              "      <th>euclidean_distance_from_3</th>\n",
              "      <th>closest</th>\n",
              "    </tr>\n",
              "  </thead>\n",
              "  <tbody>\n",
              "    <tr>\n",
              "      <th>0</th>\n",
              "      <td>12</td>\n",
              "      <td>39</td>\n",
              "      <td>NaN</td>\n",
              "      <td>26.534694</td>\n",
              "      <td>42.027915</td>\n",
              "      <td>2</td>\n",
              "    </tr>\n",
              "    <tr>\n",
              "      <th>1</th>\n",
              "      <td>20</td>\n",
              "      <td>36</td>\n",
              "      <td>NaN</td>\n",
              "      <td>18.008054</td>\n",
              "      <td>35.888889</td>\n",
              "      <td>2</td>\n",
              "    </tr>\n",
              "    <tr>\n",
              "      <th>2</th>\n",
              "      <td>28</td>\n",
              "      <td>30</td>\n",
              "      <td>NaN</td>\n",
              "      <td>9.353609</td>\n",
              "      <td>32.924343</td>\n",
              "      <td>2</td>\n",
              "    </tr>\n",
              "    <tr>\n",
              "      <th>3</th>\n",
              "      <td>18</td>\n",
              "      <td>52</td>\n",
              "      <td>NaN</td>\n",
              "      <td>28.521746</td>\n",
              "      <td>33.678399</td>\n",
              "      <td>2</td>\n",
              "    </tr>\n",
              "    <tr>\n",
              "      <th>4</th>\n",
              "      <td>29</td>\n",
              "      <td>54</td>\n",
              "      <td>NaN</td>\n",
              "      <td>24.451789</td>\n",
              "      <td>22.693883</td>\n",
              "      <td>3</td>\n",
              "    </tr>\n",
              "    <tr>\n",
              "      <th>5</th>\n",
              "      <td>33</td>\n",
              "      <td>46</td>\n",
              "      <td>NaN</td>\n",
              "      <td>15.604166</td>\n",
              "      <td>19.897267</td>\n",
              "      <td>2</td>\n",
              "    </tr>\n",
              "    <tr>\n",
              "      <th>6</th>\n",
              "      <td>24</td>\n",
              "      <td>55</td>\n",
              "      <td>NaN</td>\n",
              "      <td>27.438841</td>\n",
              "      <td>27.747094</td>\n",
              "      <td>2</td>\n",
              "    </tr>\n",
              "    <tr>\n",
              "      <th>7</th>\n",
              "      <td>45</td>\n",
              "      <td>59</td>\n",
              "      <td>NaN</td>\n",
              "      <td>29.039456</td>\n",
              "      <td>9.043789</td>\n",
              "      <td>3</td>\n",
              "    </tr>\n",
              "    <tr>\n",
              "      <th>8</th>\n",
              "      <td>45</td>\n",
              "      <td>63</td>\n",
              "      <td>NaN</td>\n",
              "      <td>32.913371</td>\n",
              "      <td>12.111111</td>\n",
              "      <td>3</td>\n",
              "    </tr>\n",
              "    <tr>\n",
              "      <th>9</th>\n",
              "      <td>52</td>\n",
              "      <td>70</td>\n",
              "      <td>NaN</td>\n",
              "      <td>41.678412</td>\n",
              "      <td>17.114358</td>\n",
              "      <td>3</td>\n",
              "    </tr>\n",
              "  </tbody>\n",
              "</table>\n",
              "</div>"
            ],
            "text/plain": [
              "    x   y  euclidean_distance_from_1  euclidean_distance_from_2  \\\n",
              "0  12  39                        NaN                  26.534694   \n",
              "1  20  36                        NaN                  18.008054   \n",
              "2  28  30                        NaN                   9.353609   \n",
              "3  18  52                        NaN                  28.521746   \n",
              "4  29  54                        NaN                  24.451789   \n",
              "5  33  46                        NaN                  15.604166   \n",
              "6  24  55                        NaN                  27.438841   \n",
              "7  45  59                        NaN                  29.039456   \n",
              "8  45  63                        NaN                  32.913371   \n",
              "9  52  70                        NaN                  41.678412   \n",
              "\n",
              "   euclidean_distance_from_3 closest  \n",
              "0                  42.027915       2  \n",
              "1                  35.888889       2  \n",
              "2                  32.924343       2  \n",
              "3                  33.678399       2  \n",
              "4                  22.693883       3  \n",
              "5                  19.897267       2  \n",
              "6                  27.747094       2  \n",
              "7                   9.043789       3  \n",
              "8                  12.111111       3  \n",
              "9                  17.114358       3  "
            ]
          },
          "execution_count": 13,
          "metadata": {},
          "output_type": "execute_result"
        }
      ]
    },
    {
      "cell_type": "code",
      "metadata": {
        "id": "_Qjr9uIHcuUa",
        "outputId": "ab64c1cb-eeba-4ec5-d809-c00ebc8f4f2b"
      },
      "source": [
        "df['closest'] = pd.to_numeric(df['closest'])\n",
        "df.head(10)"
      ],
      "execution_count": null,
      "outputs": [
        {
          "data": {
            "text/html": [
              "<div>\n",
              "<style scoped>\n",
              "    .dataframe tbody tr th:only-of-type {\n",
              "        vertical-align: middle;\n",
              "    }\n",
              "\n",
              "    .dataframe tbody tr th {\n",
              "        vertical-align: top;\n",
              "    }\n",
              "\n",
              "    .dataframe thead th {\n",
              "        text-align: right;\n",
              "    }\n",
              "</style>\n",
              "<table border=\"1\" class=\"dataframe\">\n",
              "  <thead>\n",
              "    <tr style=\"text-align: right;\">\n",
              "      <th></th>\n",
              "      <th>x</th>\n",
              "      <th>y</th>\n",
              "      <th>euclidean_distance_from_1</th>\n",
              "      <th>euclidean_distance_from_2</th>\n",
              "      <th>euclidean_distance_from_3</th>\n",
              "      <th>closest</th>\n",
              "    </tr>\n",
              "  </thead>\n",
              "  <tbody>\n",
              "    <tr>\n",
              "      <th>0</th>\n",
              "      <td>12</td>\n",
              "      <td>39</td>\n",
              "      <td>NaN</td>\n",
              "      <td>26.534694</td>\n",
              "      <td>42.027915</td>\n",
              "      <td>2</td>\n",
              "    </tr>\n",
              "    <tr>\n",
              "      <th>1</th>\n",
              "      <td>20</td>\n",
              "      <td>36</td>\n",
              "      <td>NaN</td>\n",
              "      <td>18.008054</td>\n",
              "      <td>35.888889</td>\n",
              "      <td>2</td>\n",
              "    </tr>\n",
              "    <tr>\n",
              "      <th>2</th>\n",
              "      <td>28</td>\n",
              "      <td>30</td>\n",
              "      <td>NaN</td>\n",
              "      <td>9.353609</td>\n",
              "      <td>32.924343</td>\n",
              "      <td>2</td>\n",
              "    </tr>\n",
              "    <tr>\n",
              "      <th>3</th>\n",
              "      <td>18</td>\n",
              "      <td>52</td>\n",
              "      <td>NaN</td>\n",
              "      <td>28.521746</td>\n",
              "      <td>33.678399</td>\n",
              "      <td>2</td>\n",
              "    </tr>\n",
              "    <tr>\n",
              "      <th>4</th>\n",
              "      <td>29</td>\n",
              "      <td>54</td>\n",
              "      <td>NaN</td>\n",
              "      <td>24.451789</td>\n",
              "      <td>22.693883</td>\n",
              "      <td>3</td>\n",
              "    </tr>\n",
              "    <tr>\n",
              "      <th>5</th>\n",
              "      <td>33</td>\n",
              "      <td>46</td>\n",
              "      <td>NaN</td>\n",
              "      <td>15.604166</td>\n",
              "      <td>19.897267</td>\n",
              "      <td>2</td>\n",
              "    </tr>\n",
              "    <tr>\n",
              "      <th>6</th>\n",
              "      <td>24</td>\n",
              "      <td>55</td>\n",
              "      <td>NaN</td>\n",
              "      <td>27.438841</td>\n",
              "      <td>27.747094</td>\n",
              "      <td>2</td>\n",
              "    </tr>\n",
              "    <tr>\n",
              "      <th>7</th>\n",
              "      <td>45</td>\n",
              "      <td>59</td>\n",
              "      <td>NaN</td>\n",
              "      <td>29.039456</td>\n",
              "      <td>9.043789</td>\n",
              "      <td>3</td>\n",
              "    </tr>\n",
              "    <tr>\n",
              "      <th>8</th>\n",
              "      <td>45</td>\n",
              "      <td>63</td>\n",
              "      <td>NaN</td>\n",
              "      <td>32.913371</td>\n",
              "      <td>12.111111</td>\n",
              "      <td>3</td>\n",
              "    </tr>\n",
              "    <tr>\n",
              "      <th>9</th>\n",
              "      <td>52</td>\n",
              "      <td>70</td>\n",
              "      <td>NaN</td>\n",
              "      <td>41.678412</td>\n",
              "      <td>17.114358</td>\n",
              "      <td>3</td>\n",
              "    </tr>\n",
              "  </tbody>\n",
              "</table>\n",
              "</div>"
            ],
            "text/plain": [
              "    x   y  euclidean_distance_from_1  euclidean_distance_from_2  \\\n",
              "0  12  39                        NaN                  26.534694   \n",
              "1  20  36                        NaN                  18.008054   \n",
              "2  28  30                        NaN                   9.353609   \n",
              "3  18  52                        NaN                  28.521746   \n",
              "4  29  54                        NaN                  24.451789   \n",
              "5  33  46                        NaN                  15.604166   \n",
              "6  24  55                        NaN                  27.438841   \n",
              "7  45  59                        NaN                  29.039456   \n",
              "8  45  63                        NaN                  32.913371   \n",
              "9  52  70                        NaN                  41.678412   \n",
              "\n",
              "   euclidean_distance_from_3  closest  \n",
              "0                  42.027915        2  \n",
              "1                  35.888889        2  \n",
              "2                  32.924343        2  \n",
              "3                  33.678399        2  \n",
              "4                  22.693883        3  \n",
              "5                  19.897267        2  \n",
              "6                  27.747094        2  \n",
              "7                   9.043789        3  \n",
              "8                  12.111111        3  \n",
              "9                  17.114358        3  "
            ]
          },
          "execution_count": 14,
          "metadata": {},
          "output_type": "execute_result"
        }
      ]
    },
    {
      "cell_type": "markdown",
      "metadata": {
        "id": "t6Vl0a0fcuUa"
      },
      "source": [
        "# Plot Tagged Observations"
      ]
    },
    {
      "cell_type": "code",
      "metadata": {
        "id": "KgygUACccuUa",
        "outputId": "3d67f0c8-604a-4866-a1d4-6ae9934d3bab"
      },
      "source": [
        "fig = plt.figure(figsize=(10, 5))\n",
        "\n",
        "plt.scatter(df['x'], df['y'], c=df['closest'], alpha=0.8)\n",
        "\n",
        "plt.plot(centroids_2[1][0], centroids_2[1][1], 'x', markersize=20, color='red', label='New 1')  \n",
        "plt.plot(centroids_2[2][0], centroids_2[2][1], 'x', markersize=20, color='cyan', label='New 2')  \n",
        "plt.plot(centroids_2[3][0], centroids_2[3][1], 'x', markersize=20, color='green', label='New 3')\n",
        "\n",
        "plt.plot(centroids_1[1][0], centroids_1[1][1], 'x', markersize=10, color='red', label='Old 1')  \n",
        "plt.plot(centroids_1[2][0], centroids_1[2][1], 'x', markersize=10, color='black', label='Old 2')  \n",
        "plt.plot(centroids_1[3][0], centroids_1[3][1], 'x', markersize=10, color='green', label='Old 3')  \n",
        "\n",
        "plt.legend()\n",
        "plt.xlim(0, 80)\n",
        "plt.ylim(0, 80)\n",
        "plt.show()"
      ],
      "execution_count": null,
      "outputs": [
        {
          "data": {
            "image/png": "[encoded data removed]",
            "text/plain": [
              "<Figure size 720x360 with 1 Axes>"
            ]
          },
          "metadata": {
            "needs_background": "light"
          },
          "output_type": "display_data"
        }
      ]
    },
    {
      "cell_type": "markdown",
      "metadata": {
        "id": "gb1T_vb8cuUb"
      },
      "source": [
        "# Calculate New Centroids"
      ]
    },
    {
      "cell_type": "code",
      "metadata": {
        "id": "LcjAvnslcuUb"
      },
      "source": [
        "import copy\n",
        "\n",
        "old_centroids = copy.deepcopy(centroids_2)\n",
        "\n",
        "def update(k):\n",
        "    for i in k.keys():\n",
        "        k[i][0] = np.mean(df[df['closest'] == i]['x'])\n",
        "        k[i][1] = np.mean(df[df['closest'] == i]['y'])\n",
        "        \n",
        "    return k"
      ],
      "execution_count": null,
      "outputs": []
    },
    {
      "cell_type": "code",
      "metadata": {
        "id": "r2w6_KkxcuUb",
        "outputId": "62efee15-ba0e-4c6d-a343-f3b67d94c76a"
      },
      "source": [
        "centroids_3 = update(old_centroids)\n",
        "print('New Centroids:', centroids_3)\n",
        "print('Old Centroids:', centroids_2)"
      ],
      "execution_count": null,
      "outputs": [
        {
          "name": "stdout",
          "output_type": "stream",
          "text": [
            "New Centroids: {1: [nan, nan], 2: [39.72727272727273, 29.90909090909091], 3: [50.125, 57.125]}\n",
            "Old Centroids: {1: [nan, nan], 2: [37.3, 31.0], 3: [51.666666666666664, 52.888888888888886]}\n"
          ]
        }
      ]
    },
    {
      "cell_type": "markdown",
      "metadata": {
        "id": "7OYPnVB1cuUb"
      },
      "source": [
        "# Plot New Centroids and Tagged Observations"
      ]
    },
    {
      "cell_type": "code",
      "metadata": {
        "id": "__1Ir84KcuUb",
        "outputId": "33f2d2e1-8a92-4ab7-ed92-482e8de361ac"
      },
      "source": [
        "fig = plt.figure(figsize=(10, 5))\n",
        "\n",
        "plt.scatter(df['x'], df['y'], c=df['closest'], alpha=0.8)\n",
        "\n",
        "plt.plot(centroids_3[1][0], centroids_3[1][1], 'x', markersize=20, color='red', label='New 1')  \n",
        "plt.plot(centroids_3[2][0], centroids_3[2][1], 'x', markersize=20, color='black', label='New 2')  \n",
        "plt.plot(centroids_3[3][0], centroids_3[3][1], 'x', markersize=20, color='green', label='New 3')  \n",
        "\n",
        "plt.plot(centroids_2[1][0], centroids_2[1][1], 'x', markersize=10, color='red', label='Old 1')  \n",
        "plt.plot(centroids_2[2][0], centroids_2[2][1], 'x', markersize=10, color='black', label='Old 2')  \n",
        "plt.plot(centroids_2[3][0], centroids_2[3][1], 'x', markersize=10, color='green', label='Old 3')  \n",
        "\n",
        "plt.legend()\n",
        "plt.xlim(0, 80)\n",
        "plt.ylim(0, 80)\n",
        "plt.show()"
      ],
      "execution_count": null,
      "outputs": [
        {
          "data": {
            "image/png": "[encoded data removed]",
            "text/plain": [
              "<Figure size 720x360 with 1 Axes>"
            ]
          },
          "metadata": {
            "needs_background": "light"
          },
          "output_type": "display_data"
        }
      ]
    },
    {
      "cell_type": "code",
      "metadata": {
        "id": "aTPZjmrScuUb"
      },
      "source": [
        ""
      ],
      "execution_count": null,
      "outputs": []
    },
    {
      "cell_type": "code",
      "metadata": {
        "id": "I_xGHzklcuUb"
      },
      "source": [
        ""
      ],
      "execution_count": null,
      "outputs": []
    },
    {
      "cell_type": "markdown",
      "metadata": {
        "id": "nRLOd05FcuUb"
      },
      "source": [
        "# 2. Implementing K-Means using Sklearn"
      ]
    },
    {
      "cell_type": "code",
      "metadata": {
        "id": "mUV8mTGncuUb"
      },
      "source": [
        "from sklearn.cluster import KMeans"
      ],
      "execution_count": null,
      "outputs": []
    },
    {
      "cell_type": "code",
      "metadata": {
        "id": "aQe4XPKvcuUb",
        "outputId": "745d8b61-546a-4311-9909-b7a75f20c122"
      },
      "source": [
        "df = pd.read_csv('data.csv')\n",
        "df.head(2)"
      ],
      "execution_count": null,
      "outputs": [
        {
          "data": {
            "text/html": [
              "<div>\n",
              "<style scoped>\n",
              "    .dataframe tbody tr th:only-of-type {\n",
              "        vertical-align: middle;\n",
              "    }\n",
              "\n",
              "    .dataframe tbody tr th {\n",
              "        vertical-align: top;\n",
              "    }\n",
              "\n",
              "    .dataframe thead th {\n",
              "        text-align: right;\n",
              "    }\n",
              "</style>\n",
              "<table border=\"1\" class=\"dataframe\">\n",
              "  <thead>\n",
              "    <tr style=\"text-align: right;\">\n",
              "      <th></th>\n",
              "      <th>x</th>\n",
              "      <th>y</th>\n",
              "    </tr>\n",
              "  </thead>\n",
              "  <tbody>\n",
              "    <tr>\n",
              "      <th>0</th>\n",
              "      <td>12</td>\n",
              "      <td>39</td>\n",
              "    </tr>\n",
              "    <tr>\n",
              "      <th>1</th>\n",
              "      <td>20</td>\n",
              "      <td>36</td>\n",
              "    </tr>\n",
              "  </tbody>\n",
              "</table>\n",
              "</div>"
            ],
            "text/plain": [
              "    x   y\n",
              "0  12  39\n",
              "1  20  36"
            ]
          },
          "execution_count": 20,
          "metadata": {},
          "output_type": "execute_result"
        }
      ]
    },
    {
      "cell_type": "code",
      "metadata": {
        "id": "b6MiZoVscuUc",
        "outputId": "83700522-3680-460b-a849-5eac3552895f"
      },
      "source": [
        "kmeans = KMeans(n_clusters=3)\n",
        "kmeans.fit(df)"
      ],
      "execution_count": null,
      "outputs": [
        {
          "data": {
            "text/plain": [
              "KMeans(n_clusters=3)"
            ]
          },
          "execution_count": 21,
          "metadata": {},
          "output_type": "execute_result"
        }
      ]
    },
    {
      "cell_type": "code",
      "metadata": {
        "id": "vh8Hj3fucuUc"
      },
      "source": [
        "labels = kmeans.predict(df)\n",
        "centroids = kmeans.cluster_centers_"
      ],
      "execution_count": null,
      "outputs": []
    },
    {
      "cell_type": "code",
      "metadata": {
        "id": "iBhfsHVDcuUc",
        "outputId": "659cd3f2-f80b-4eb3-e33f-e5ba90a23fb1"
      },
      "source": [
        "centroids"
      ],
      "execution_count": null,
      "outputs": [
        {
          "data": {
            "text/plain": [
              "array([[50.        , 63.16666667],\n",
              "       [62.33333333, 15.83333333],\n",
              "       [23.42857143, 44.57142857]])"
            ]
          },
          "execution_count": 23,
          "metadata": {},
          "output_type": "execute_result"
        }
      ]
    },
    {
      "cell_type": "code",
      "metadata": {
        "id": "cM2PVGgmcuUc",
        "outputId": "09ad1e06-0227-4334-aca3-49711c5ae74e"
      },
      "source": [
        "fig = plt.figure(figsize=(10, 5))\n",
        "\n",
        "plt.scatter(df['x'], df['y'], alpha=0.8)\n",
        "\n",
        "plt.plot(centroids[0][0], centroids[0][1], 'x', markersize=20, color='red', label='New 1')  \n",
        "plt.plot(centroids[1][0], centroids[1][1], 'x', markersize=20, color='black', label='New 2')  \n",
        "plt.plot(centroids[2][0], centroids_2[3][1], 'x', markersize=20, color='green', label='New 3')  \n",
        "\n",
        "plt.legend()\n",
        "plt.xlim(0, 80)\n",
        "plt.ylim(0, 80)\n",
        "plt.show()"
      ],
      "execution_count": null,
      "outputs": [
        {
          "data": {
            "image/png": "[encoded data removed]",
            "text/plain": [
              "<Figure size 720x360 with 1 Axes>"
            ]
          },
          "metadata": {
            "needs_background": "light"
          },
          "output_type": "display_data"
        }
      ]
    },
    {
      "cell_type": "code",
      "metadata": {
        "id": "rLv8fjsOcuUc",
        "outputId": "d8033fc7-5f4f-4612-9be1-df80310a479a"
      },
      "source": [
        "# From Raw Implementation\n",
        "centroids_3"
      ],
      "execution_count": null,
      "outputs": [
        {
          "data": {
            "text/plain": [
              "{1: [23.428571428571427, 44.57142857142857],\n",
              " 2: [50.0, 63.166666666666664],\n",
              " 3: [62.333333333333336, 15.833333333333334]}"
            ]
          },
          "execution_count": 25,
          "metadata": {},
          "output_type": "execute_result"
        }
      ]
    },
    {
      "cell_type": "code",
      "metadata": {
        "id": "wF-QF7UncuUc",
        "outputId": "a6a4ee65-f0d3-4f76-adda-ecdc18ab6e20"
      },
      "source": [
        "# From sklearn\n",
        "centroids"
      ],
      "execution_count": null,
      "outputs": [
        {
          "data": {
            "text/plain": [
              "array([[50.        , 63.16666667],\n",
              "       [62.33333333, 15.83333333],\n",
              "       [23.42857143, 44.57142857]])"
            ]
          },
          "execution_count": 26,
          "metadata": {},
          "output_type": "execute_result"
        }
      ]
    },
    {
      "cell_type": "code",
      "metadata": {
        "id": "BsPySr3IcuUc"
      },
      "source": [
        ""
      ],
      "execution_count": null,
      "outputs": []
    }
  ]
}