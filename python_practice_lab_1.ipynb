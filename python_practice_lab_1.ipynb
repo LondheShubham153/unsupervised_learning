{
  "nbformat": 4,
  "nbformat_minor": 0,
  "metadata": {
    "colab": {
      "name": "unsupervised_learning_lab_1.ipynb",
      "provenance": [],
      "collapsed_sections": [],
      "authorship_tag": "ABX9TyNCUAsEJbQJ/N0Zzar+N33L",
      "include_colab_link": true
    },
    "kernelspec": {
      "name": "python3",
      "display_name": "Python 3"
    },
    "language_info": {
      "name": "python"
    }
  },
  "cells": [
    {
      "cell_type": "markdown",
      "metadata": {
        "id": "view-in-github",
        "colab_type": "text"
      },
      "source": [
        "<a href=\"https://colab.research.google.com/github/LondheShubham153/unsupervised_learning/blob/main/unsupervised_learning_lab_1.ipynb\" target=\"_parent\"><img src=\"https://colab.research.google.com/assets/colab-badge.svg\" alt=\"Open In Colab\"/></a>"
      ]
    },
    {
      "cell_type": "markdown",
      "metadata": {
        "id": "l9LHKyMIdB1A"
      },
      "source": [
        " Write programs using Functions\n",
        "\n",
        "1.   Find the greatest from 3 using Functions\n",
        "2.   Reverse of String\n",
        "3.   Factorial\n",
        "4.   Unique list\n",
        "5.   Eucledian Distance\n",
        "\n",
        "\n",
        "\n"
      ]
    },
    {
      "cell_type": "markdown",
      "metadata": {
        "id": "wQPfdm_vwxPB"
      },
      "source": [
        "# New Section"
      ]
    },
    {
      "cell_type": "code",
      "metadata": {
        "id": "3uAFo8tgc7sh"
      },
      "source": [
        "def greatest_number(a,b,c):\n",
        "  if a>=b and b>=c:\n",
        "    return a\n",
        "  elif b>=c and c>=a:\n",
        "    return b\n",
        "  else:\n",
        "    return c"
      ],
      "execution_count": null,
      "outputs": []
    },
    {
      "cell_type": "code",
      "metadata": {
        "id": "4bdTX8t6d1FH"
      },
      "source": [
        "def reverse_string(s):\n",
        "  temp_str = \"\"\n",
        "  for i in s:\n",
        "    temp_str = i + temp_str  \n",
        "  return temp_str \n",
        "\n",
        "def reverse_string_without_loop(s):\n",
        "  return s[::-1]"
      ],
      "execution_count": null,
      "outputs": []
    },
    {
      "cell_type": "code",
      "metadata": {
        "id": "aKZQKSDYeP7T"
      },
      "source": [
        "def factorial(num):\n",
        "  fact = 1\n",
        "  for i in range(1,num+1):\n",
        "    fact = fact*i\n",
        "\n",
        "  return fact\n",
        "\n",
        "def recur_factorial(num):\n",
        "  if num == 0:\n",
        "    return 1\n",
        "\n",
        "  if num == 1:\n",
        "    return num\n",
        "  else:\n",
        "    return num*recur_factorial(num-1)"
      ],
      "execution_count": null,
      "outputs": []
    },
    {
      "cell_type": "code",
      "metadata": {
        "id": "MwTBd00mhjhA"
      },
      "source": [
        "def unique_list_without_loop(list_dup):\n",
        "  return list(set(list_dup))\n",
        "\n",
        "def unique_list_with_loop(list_dup):\n",
        "  list_unique = []\n",
        "  for i in list_dup:\n",
        "    if i not in list_unique:\n",
        "      list_unique.append(i)\n",
        "    else:\n",
        "      continue\n",
        "  return list_unique"
      ],
      "execution_count": null,
      "outputs": []
    },
    {
      "cell_type": "code",
      "metadata": {
        "id": "8NQM-wMdsfWi"
      },
      "source": [
        "def eucledian_distance(point_1,point_2):\n",
        "  sqr = [(p-q) ** 2 for p, q in zip(point_1, point_2)]\n",
        "  return sum(sqr) ** .5"
      ],
      "execution_count": null,
      "outputs": []
    },
    {
      "cell_type": "code",
      "metadata": {
        "id": "TBTMXRv3eZC6"
      },
      "source": [
        "num_1 = 24\n",
        "num_2 = 55\n",
        "num_3 = 41\n",
        "test_str = \"shubham\"\n",
        "test_num = 0\n",
        "test_list = [1,2,3,3,3,3,1,2,4,4,5,6,6,5]\n",
        "point_1 = [3.0,2.0]\n",
        "point_2 = [4.0,1.0]"
      ],
      "execution_count": null,
      "outputs": []
    },
    {
      "cell_type": "code",
      "metadata": {
        "id": "_vyYQ-o6e-ey"
      },
      "source": [
        "gr_num = greatest_number(num_1,num_2,num_3)\n",
        "rev_str = reverse_string(test_str)\n",
        "rev_str_new = reverse_string_without_loop(test_str)\n",
        "fact = factorial(test_num)\n",
        "rec_fact = recur_factorial(test_num)\n",
        "uniq_list = unique_list_with_loop(test_list)\n",
        "dist = eucledian_distance(point_1,point_2)"
      ],
      "execution_count": null,
      "outputs": []
    },
    {
      "cell_type": "code",
      "metadata": {
        "colab": {
          "base_uri": "https://localhost:8080/"
        },
        "id": "Dka07eseem5O",
        "outputId": "5ca19eb6-7a66-4176-d79c-bc0b38f51c3c"
      },
      "source": [
        "print(f\"The greatest no. from {num_1} {num_2} and {num_3} is {gr_num}\")\n",
        "print(f\"The reverse. of {test_str} is {rev_str}\")\n",
        "print(f\"The reverse. of {test_str} without loop is {rev_str_new}\")\n",
        "print(f\"The factorial of {test_num} recursively is {rec_fact}\")\n",
        "print(f\"The factorial of {test_num} is {fact}\")\n",
        "print(f\"The unique list from {test_list} is {uniq_list}\")\n",
        "print(f\"The eucledian distance is {round(dist,2)}\")"
      ],
      "execution_count": null,
      "outputs": [
        {
          "output_type": "stream",
          "name": "stdout",
          "text": [
            "The greatest no. from 24 55 and 41 is 55\n",
            "The reverse. of shubham is mahbuhs\n",
            "The reverse. of shubham without loop is mahbuhs\n",
            "The factorial of 0 recursively is 1\n",
            "The factorial of 0 is 1\n",
            "The unique list from [1, 2, 3, 3, 3, 3, 1, 2, 4, 4, 5, 6, 6, 5] is [1, 2, 3, 4, 5, 6]\n",
            "The eucledian distance is 1.41\n"
          ]
        }
      ]
    }
  ]
}
