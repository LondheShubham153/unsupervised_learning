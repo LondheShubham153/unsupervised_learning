{
  "cells": [
    {
      "cell_type": "markdown",
      "metadata": {
        "id": "view-in-github",
        "colab_type": "text"
      },
      "source": [
        "<a href=\"https://colab.research.google.com/github/LondheShubham153/unsupervised_learning/blob/main/kmode_clustering.ipynb\" target=\"_parent\"><img src=\"https://colab.research.google.com/assets/colab-badge.svg\" alt=\"Open In Colab\"/></a>"
      ]
    },
    {
      "cell_type": "raw",
      "id": "5880f644",
      "metadata": {
        "id": "5880f644"
      },
      "source": [
        "Name : Shikhar S Dhoke\n",
        "PRN_NO : 21070149021"
      ]
    },
    {
      "cell_type": "code",
      "execution_count": null,
      "id": "a3cde259",
      "metadata": {
        "id": "a3cde259"
      },
      "outputs": [],
      "source": [
        "\n",
        "import numpy as np\n",
        "import pandas as pd\n",
        "\n",
        "import matplotlib.pyplot as plt\n",
        "import seaborn as sns\n",
        "%matplotlib inline\n",
        "from matplotlib.pyplot import xticks"
      ]
    },
    {
      "cell_type": "code",
      "execution_count": null,
      "id": "00e657a9",
      "metadata": {
        "id": "00e657a9"
      },
      "outputs": [],
      "source": [
        "bank = pd.read_csv('bankmarketing.csv')"
      ]
    },
    {
      "cell_type": "code",
      "execution_count": null,
      "id": "1d10f13b",
      "metadata": {
        "id": "1d10f13b",
        "outputId": "7e414dc0-26e6-41df-87e7-927991b68c0c"
      },
      "outputs": [
        {
          "data": {
            "text/html": [
              "<div>\n",
              "<style scoped>\n",
              "    .dataframe tbody tr th:only-of-type {\n",
              "        vertical-align: middle;\n",
              "    }\n",
              "\n",
              "    .dataframe tbody tr th {\n",
              "        vertical-align: top;\n",
              "    }\n",
              "\n",
              "    .dataframe thead th {\n",
              "        text-align: right;\n",
              "    }\n",
              "</style>\n",
              "<table border=\"1\" class=\"dataframe\">\n",
              "  <thead>\n",
              "    <tr style=\"text-align: right;\">\n",
              "      <th></th>\n",
              "      <th>age</th>\n",
              "      <th>job</th>\n",
              "      <th>marital</th>\n",
              "      <th>education</th>\n",
              "      <th>default</th>\n",
              "      <th>housing</th>\n",
              "      <th>loan</th>\n",
              "      <th>contact</th>\n",
              "      <th>month</th>\n",
              "      <th>day_of_week</th>\n",
              "      <th>...</th>\n",
              "      <th>campaign</th>\n",
              "      <th>pdays</th>\n",
              "      <th>previous</th>\n",
              "      <th>poutcome</th>\n",
              "      <th>emp.var.rate</th>\n",
              "      <th>cons.price.idx</th>\n",
              "      <th>cons.conf.idx</th>\n",
              "      <th>euribor3m</th>\n",
              "      <th>nr.employed</th>\n",
              "      <th>y</th>\n",
              "    </tr>\n",
              "  </thead>\n",
              "  <tbody>\n",
              "    <tr>\n",
              "      <th>0</th>\n",
              "      <td>56</td>\n",
              "      <td>housemaid</td>\n",
              "      <td>married</td>\n",
              "      <td>basic.4y</td>\n",
              "      <td>no</td>\n",
              "      <td>no</td>\n",
              "      <td>no</td>\n",
              "      <td>telephone</td>\n",
              "      <td>may</td>\n",
              "      <td>mon</td>\n",
              "      <td>...</td>\n",
              "      <td>1</td>\n",
              "      <td>999</td>\n",
              "      <td>0</td>\n",
              "      <td>nonexistent</td>\n",
              "      <td>1.1</td>\n",
              "      <td>93.994</td>\n",
              "      <td>-36.4</td>\n",
              "      <td>4.857</td>\n",
              "      <td>5191.0</td>\n",
              "      <td>no</td>\n",
              "    </tr>\n",
              "    <tr>\n",
              "      <th>1</th>\n",
              "      <td>57</td>\n",
              "      <td>services</td>\n",
              "      <td>married</td>\n",
              "      <td>high.school</td>\n",
              "      <td>unknown</td>\n",
              "      <td>no</td>\n",
              "      <td>no</td>\n",
              "      <td>telephone</td>\n",
              "      <td>may</td>\n",
              "      <td>mon</td>\n",
              "      <td>...</td>\n",
              "      <td>1</td>\n",
              "      <td>999</td>\n",
              "      <td>0</td>\n",
              "      <td>nonexistent</td>\n",
              "      <td>1.1</td>\n",
              "      <td>93.994</td>\n",
              "      <td>-36.4</td>\n",
              "      <td>4.857</td>\n",
              "      <td>5191.0</td>\n",
              "      <td>no</td>\n",
              "    </tr>\n",
              "    <tr>\n",
              "      <th>2</th>\n",
              "      <td>37</td>\n",
              "      <td>services</td>\n",
              "      <td>married</td>\n",
              "      <td>high.school</td>\n",
              "      <td>no</td>\n",
              "      <td>yes</td>\n",
              "      <td>no</td>\n",
              "      <td>telephone</td>\n",
              "      <td>may</td>\n",
              "      <td>mon</td>\n",
              "      <td>...</td>\n",
              "      <td>1</td>\n",
              "      <td>999</td>\n",
              "      <td>0</td>\n",
              "      <td>nonexistent</td>\n",
              "      <td>1.1</td>\n",
              "      <td>93.994</td>\n",
              "      <td>-36.4</td>\n",
              "      <td>4.857</td>\n",
              "      <td>5191.0</td>\n",
              "      <td>no</td>\n",
              "    </tr>\n",
              "    <tr>\n",
              "      <th>3</th>\n",
              "      <td>40</td>\n",
              "      <td>admin.</td>\n",
              "      <td>married</td>\n",
              "      <td>basic.6y</td>\n",
              "      <td>no</td>\n",
              "      <td>no</td>\n",
              "      <td>no</td>\n",
              "      <td>telephone</td>\n",
              "      <td>may</td>\n",
              "      <td>mon</td>\n",
              "      <td>...</td>\n",
              "      <td>1</td>\n",
              "      <td>999</td>\n",
              "      <td>0</td>\n",
              "      <td>nonexistent</td>\n",
              "      <td>1.1</td>\n",
              "      <td>93.994</td>\n",
              "      <td>-36.4</td>\n",
              "      <td>4.857</td>\n",
              "      <td>5191.0</td>\n",
              "      <td>no</td>\n",
              "    </tr>\n",
              "    <tr>\n",
              "      <th>4</th>\n",
              "      <td>56</td>\n",
              "      <td>services</td>\n",
              "      <td>married</td>\n",
              "      <td>high.school</td>\n",
              "      <td>no</td>\n",
              "      <td>no</td>\n",
              "      <td>yes</td>\n",
              "      <td>telephone</td>\n",
              "      <td>may</td>\n",
              "      <td>mon</td>\n",
              "      <td>...</td>\n",
              "      <td>1</td>\n",
              "      <td>999</td>\n",
              "      <td>0</td>\n",
              "      <td>nonexistent</td>\n",
              "      <td>1.1</td>\n",
              "      <td>93.994</td>\n",
              "      <td>-36.4</td>\n",
              "      <td>4.857</td>\n",
              "      <td>5191.0</td>\n",
              "      <td>no</td>\n",
              "    </tr>\n",
              "  </tbody>\n",
              "</table>\n",
              "<p>5 rows × 21 columns</p>\n",
              "</div>"
            ],
            "text/plain": [
              "   age        job  marital    education  default housing loan    contact  \\\n",
              "0   56  housemaid  married     basic.4y       no      no   no  telephone   \n",
              "1   57   services  married  high.school  unknown      no   no  telephone   \n",
              "2   37   services  married  high.school       no     yes   no  telephone   \n",
              "3   40     admin.  married     basic.6y       no      no   no  telephone   \n",
              "4   56   services  married  high.school       no      no  yes  telephone   \n",
              "\n",
              "  month day_of_week  ...  campaign  pdays  previous     poutcome emp.var.rate  \\\n",
              "0   may         mon  ...         1    999         0  nonexistent          1.1   \n",
              "1   may         mon  ...         1    999         0  nonexistent          1.1   \n",
              "2   may         mon  ...         1    999         0  nonexistent          1.1   \n",
              "3   may         mon  ...         1    999         0  nonexistent          1.1   \n",
              "4   may         mon  ...         1    999         0  nonexistent          1.1   \n",
              "\n",
              "   cons.price.idx  cons.conf.idx  euribor3m  nr.employed   y  \n",
              "0          93.994          -36.4      4.857       5191.0  no  \n",
              "1          93.994          -36.4      4.857       5191.0  no  \n",
              "2          93.994          -36.4      4.857       5191.0  no  \n",
              "3          93.994          -36.4      4.857       5191.0  no  \n",
              "4          93.994          -36.4      4.857       5191.0  no  \n",
              "\n",
              "[5 rows x 21 columns]"
            ]
          },
          "execution_count": 3,
          "metadata": {},
          "output_type": "execute_result"
        }
      ],
      "source": [
        "bank.head()"
      ]
    },
    {
      "cell_type": "code",
      "execution_count": null,
      "id": "3504194c",
      "metadata": {
        "id": "3504194c",
        "outputId": "5dd26830-cdad-4f7a-c36f-c654d86fac32"
      },
      "outputs": [
        {
          "data": {
            "text/plain": [
              "Index(['age', 'job', 'marital', 'education', 'default', 'housing', 'loan',\n",
              "       'contact', 'month', 'day_of_week', 'duration', 'campaign', 'pdays',\n",
              "       'previous', 'poutcome', 'emp.var.rate', 'cons.price.idx',\n",
              "       'cons.conf.idx', 'euribor3m', 'nr.employed', 'y'],\n",
              "      dtype='object')"
            ]
          },
          "execution_count": 4,
          "metadata": {},
          "output_type": "execute_result"
        }
      ],
      "source": [
        "bank.columns"
      ]
    },
    {
      "cell_type": "markdown",
      "id": "f6c5c690",
      "metadata": {
        "id": "f6c5c690"
      },
      "source": [
        "# Importing Categorical Columns"
      ]
    },
    {
      "cell_type": "code",
      "execution_count": null,
      "id": "6cea3f7d",
      "metadata": {
        "id": "6cea3f7d"
      },
      "outputs": [],
      "source": [
        "bank_cust = bank[['age','job', 'marital', 'education', 'default', 'housing', 'loan','contact','month','day_of_week','poutcome']]"
      ]
    },
    {
      "cell_type": "code",
      "execution_count": null,
      "id": "db331401",
      "metadata": {
        "id": "db331401",
        "outputId": "467f1e27-d18b-4027-83a9-012315201e4d"
      },
      "outputs": [
        {
          "data": {
            "text/html": [
              "<div>\n",
              "<style scoped>\n",
              "    .dataframe tbody tr th:only-of-type {\n",
              "        vertical-align: middle;\n",
              "    }\n",
              "\n",
              "    .dataframe tbody tr th {\n",
              "        vertical-align: top;\n",
              "    }\n",
              "\n",
              "    .dataframe thead th {\n",
              "        text-align: right;\n",
              "    }\n",
              "</style>\n",
              "<table border=\"1\" class=\"dataframe\">\n",
              "  <thead>\n",
              "    <tr style=\"text-align: right;\">\n",
              "      <th></th>\n",
              "      <th>age</th>\n",
              "      <th>job</th>\n",
              "      <th>marital</th>\n",
              "      <th>education</th>\n",
              "      <th>default</th>\n",
              "      <th>housing</th>\n",
              "      <th>loan</th>\n",
              "      <th>contact</th>\n",
              "      <th>month</th>\n",
              "      <th>day_of_week</th>\n",
              "      <th>poutcome</th>\n",
              "    </tr>\n",
              "  </thead>\n",
              "  <tbody>\n",
              "    <tr>\n",
              "      <th>0</th>\n",
              "      <td>56</td>\n",
              "      <td>housemaid</td>\n",
              "      <td>married</td>\n",
              "      <td>basic.4y</td>\n",
              "      <td>no</td>\n",
              "      <td>no</td>\n",
              "      <td>no</td>\n",
              "      <td>telephone</td>\n",
              "      <td>may</td>\n",
              "      <td>mon</td>\n",
              "      <td>nonexistent</td>\n",
              "    </tr>\n",
              "    <tr>\n",
              "      <th>1</th>\n",
              "      <td>57</td>\n",
              "      <td>services</td>\n",
              "      <td>married</td>\n",
              "      <td>high.school</td>\n",
              "      <td>unknown</td>\n",
              "      <td>no</td>\n",
              "      <td>no</td>\n",
              "      <td>telephone</td>\n",
              "      <td>may</td>\n",
              "      <td>mon</td>\n",
              "      <td>nonexistent</td>\n",
              "    </tr>\n",
              "    <tr>\n",
              "      <th>2</th>\n",
              "      <td>37</td>\n",
              "      <td>services</td>\n",
              "      <td>married</td>\n",
              "      <td>high.school</td>\n",
              "      <td>no</td>\n",
              "      <td>yes</td>\n",
              "      <td>no</td>\n",
              "      <td>telephone</td>\n",
              "      <td>may</td>\n",
              "      <td>mon</td>\n",
              "      <td>nonexistent</td>\n",
              "    </tr>\n",
              "    <tr>\n",
              "      <th>3</th>\n",
              "      <td>40</td>\n",
              "      <td>admin.</td>\n",
              "      <td>married</td>\n",
              "      <td>basic.6y</td>\n",
              "      <td>no</td>\n",
              "      <td>no</td>\n",
              "      <td>no</td>\n",
              "      <td>telephone</td>\n",
              "      <td>may</td>\n",
              "      <td>mon</td>\n",
              "      <td>nonexistent</td>\n",
              "    </tr>\n",
              "    <tr>\n",
              "      <th>4</th>\n",
              "      <td>56</td>\n",
              "      <td>services</td>\n",
              "      <td>married</td>\n",
              "      <td>high.school</td>\n",
              "      <td>no</td>\n",
              "      <td>no</td>\n",
              "      <td>yes</td>\n",
              "      <td>telephone</td>\n",
              "      <td>may</td>\n",
              "      <td>mon</td>\n",
              "      <td>nonexistent</td>\n",
              "    </tr>\n",
              "  </tbody>\n",
              "</table>\n",
              "</div>"
            ],
            "text/plain": [
              "   age        job  marital    education  default housing loan    contact  \\\n",
              "0   56  housemaid  married     basic.4y       no      no   no  telephone   \n",
              "1   57   services  married  high.school  unknown      no   no  telephone   \n",
              "2   37   services  married  high.school       no     yes   no  telephone   \n",
              "3   40     admin.  married     basic.6y       no      no   no  telephone   \n",
              "4   56   services  married  high.school       no      no  yes  telephone   \n",
              "\n",
              "  month day_of_week     poutcome  \n",
              "0   may         mon  nonexistent  \n",
              "1   may         mon  nonexistent  \n",
              "2   may         mon  nonexistent  \n",
              "3   may         mon  nonexistent  \n",
              "4   may         mon  nonexistent  "
            ]
          },
          "execution_count": 6,
          "metadata": {},
          "output_type": "execute_result"
        }
      ],
      "source": [
        "bank_cust.head()"
      ]
    },
    {
      "cell_type": "markdown",
      "id": "05874593",
      "metadata": {
        "id": "05874593"
      },
      "source": [
        "# Converting age into categorical variable."
      ]
    },
    {
      "cell_type": "code",
      "execution_count": null,
      "id": "b1e0cdba",
      "metadata": {
        "id": "b1e0cdba",
        "outputId": "0addfcb1-9fc6-4970-8772-91e80659ea6f"
      },
      "outputs": [
        {
          "name": "stderr",
          "output_type": "stream",
          "text": [
            "<ipython-input-7-e4d017e856dc>:1: SettingWithCopyWarning: \n",
            "A value is trying to be set on a copy of a slice from a DataFrame.\n",
            "Try using .loc[row_indexer,col_indexer] = value instead\n",
            "\n",
            "See the caveats in the documentation: https://pandas.pydata.org/pandas-docs/stable/user_guide/indexing.html#returning-a-view-versus-a-copy\n",
            "  bank_cust['age_bin'] = pd.cut(bank_cust['age'], [0, 20, 30, 40, 50, 60, 70, 80, 90, 100],\n"
          ]
        }
      ],
      "source": [
        "bank_cust['age_bin'] = pd.cut(bank_cust['age'], [0, 20, 30, 40, 50, 60, 70, 80, 90, 100], \n",
        "                              labels=['0-20', '20-30', '30-40', '40-50','50-60','60-70','70-80', '80-90','90-100'])\n",
        "bank_cust  = bank_cust.drop('age',axis = 1)"
      ]
    },
    {
      "cell_type": "code",
      "execution_count": null,
      "id": "4942cd2e",
      "metadata": {
        "id": "4942cd2e",
        "outputId": "496d131e-ba50-4659-ef93-cf575ee11813"
      },
      "outputs": [
        {
          "data": {
            "text/html": [
              "<div>\n",
              "<style scoped>\n",
              "    .dataframe tbody tr th:only-of-type {\n",
              "        vertical-align: middle;\n",
              "    }\n",
              "\n",
              "    .dataframe tbody tr th {\n",
              "        vertical-align: top;\n",
              "    }\n",
              "\n",
              "    .dataframe thead th {\n",
              "        text-align: right;\n",
              "    }\n",
              "</style>\n",
              "<table border=\"1\" class=\"dataframe\">\n",
              "  <thead>\n",
              "    <tr style=\"text-align: right;\">\n",
              "      <th></th>\n",
              "      <th>job</th>\n",
              "      <th>marital</th>\n",
              "      <th>education</th>\n",
              "      <th>default</th>\n",
              "      <th>housing</th>\n",
              "      <th>loan</th>\n",
              "      <th>contact</th>\n",
              "      <th>month</th>\n",
              "      <th>day_of_week</th>\n",
              "      <th>poutcome</th>\n",
              "      <th>age_bin</th>\n",
              "    </tr>\n",
              "  </thead>\n",
              "  <tbody>\n",
              "    <tr>\n",
              "      <th>0</th>\n",
              "      <td>housemaid</td>\n",
              "      <td>married</td>\n",
              "      <td>basic.4y</td>\n",
              "      <td>no</td>\n",
              "      <td>no</td>\n",
              "      <td>no</td>\n",
              "      <td>telephone</td>\n",
              "      <td>may</td>\n",
              "      <td>mon</td>\n",
              "      <td>nonexistent</td>\n",
              "      <td>50-60</td>\n",
              "    </tr>\n",
              "    <tr>\n",
              "      <th>1</th>\n",
              "      <td>services</td>\n",
              "      <td>married</td>\n",
              "      <td>high.school</td>\n",
              "      <td>unknown</td>\n",
              "      <td>no</td>\n",
              "      <td>no</td>\n",
              "      <td>telephone</td>\n",
              "      <td>may</td>\n",
              "      <td>mon</td>\n",
              "      <td>nonexistent</td>\n",
              "      <td>50-60</td>\n",
              "    </tr>\n",
              "    <tr>\n",
              "      <th>2</th>\n",
              "      <td>services</td>\n",
              "      <td>married</td>\n",
              "      <td>high.school</td>\n",
              "      <td>no</td>\n",
              "      <td>yes</td>\n",
              "      <td>no</td>\n",
              "      <td>telephone</td>\n",
              "      <td>may</td>\n",
              "      <td>mon</td>\n",
              "      <td>nonexistent</td>\n",
              "      <td>30-40</td>\n",
              "    </tr>\n",
              "    <tr>\n",
              "      <th>3</th>\n",
              "      <td>admin.</td>\n",
              "      <td>married</td>\n",
              "      <td>basic.6y</td>\n",
              "      <td>no</td>\n",
              "      <td>no</td>\n",
              "      <td>no</td>\n",
              "      <td>telephone</td>\n",
              "      <td>may</td>\n",
              "      <td>mon</td>\n",
              "      <td>nonexistent</td>\n",
              "      <td>30-40</td>\n",
              "    </tr>\n",
              "    <tr>\n",
              "      <th>4</th>\n",
              "      <td>services</td>\n",
              "      <td>married</td>\n",
              "      <td>high.school</td>\n",
              "      <td>no</td>\n",
              "      <td>no</td>\n",
              "      <td>yes</td>\n",
              "      <td>telephone</td>\n",
              "      <td>may</td>\n",
              "      <td>mon</td>\n",
              "      <td>nonexistent</td>\n",
              "      <td>50-60</td>\n",
              "    </tr>\n",
              "  </tbody>\n",
              "</table>\n",
              "</div>"
            ],
            "text/plain": [
              "         job  marital    education  default housing loan    contact month  \\\n",
              "0  housemaid  married     basic.4y       no      no   no  telephone   may   \n",
              "1   services  married  high.school  unknown      no   no  telephone   may   \n",
              "2   services  married  high.school       no     yes   no  telephone   may   \n",
              "3     admin.  married     basic.6y       no      no   no  telephone   may   \n",
              "4   services  married  high.school       no      no  yes  telephone   may   \n",
              "\n",
              "  day_of_week     poutcome age_bin  \n",
              "0         mon  nonexistent   50-60  \n",
              "1         mon  nonexistent   50-60  \n",
              "2         mon  nonexistent   30-40  \n",
              "3         mon  nonexistent   30-40  \n",
              "4         mon  nonexistent   50-60  "
            ]
          },
          "execution_count": 8,
          "metadata": {},
          "output_type": "execute_result"
        }
      ],
      "source": [
        "bank_cust.head()"
      ]
    },
    {
      "cell_type": "markdown",
      "id": "168d4416",
      "metadata": {
        "id": "168d4416"
      },
      "source": [
        "# Data Inspection"
      ]
    },
    {
      "cell_type": "code",
      "execution_count": null,
      "id": "238c8d2b",
      "metadata": {
        "id": "238c8d2b",
        "outputId": "100d2c6d-15f8-4b13-c3ac-5aabb01ace27"
      },
      "outputs": [
        {
          "data": {
            "text/plain": [
              "(41188, 11)"
            ]
          },
          "execution_count": 9,
          "metadata": {},
          "output_type": "execute_result"
        }
      ],
      "source": [
        "bank_cust.shape"
      ]
    },
    {
      "cell_type": "code",
      "execution_count": null,
      "id": "e2a1ec48",
      "metadata": {
        "id": "e2a1ec48",
        "outputId": "05d5ab03-79d0-43de-ee39-eb38b59a3d60"
      },
      "outputs": [
        {
          "data": {
            "text/html": [
              "<div>\n",
              "<style scoped>\n",
              "    .dataframe tbody tr th:only-of-type {\n",
              "        vertical-align: middle;\n",
              "    }\n",
              "\n",
              "    .dataframe tbody tr th {\n",
              "        vertical-align: top;\n",
              "    }\n",
              "\n",
              "    .dataframe thead th {\n",
              "        text-align: right;\n",
              "    }\n",
              "</style>\n",
              "<table border=\"1\" class=\"dataframe\">\n",
              "  <thead>\n",
              "    <tr style=\"text-align: right;\">\n",
              "      <th></th>\n",
              "      <th>job</th>\n",
              "      <th>marital</th>\n",
              "      <th>education</th>\n",
              "      <th>default</th>\n",
              "      <th>housing</th>\n",
              "      <th>loan</th>\n",
              "      <th>contact</th>\n",
              "      <th>month</th>\n",
              "      <th>day_of_week</th>\n",
              "      <th>poutcome</th>\n",
              "      <th>age_bin</th>\n",
              "    </tr>\n",
              "  </thead>\n",
              "  <tbody>\n",
              "    <tr>\n",
              "      <th>count</th>\n",
              "      <td>41188</td>\n",
              "      <td>41188</td>\n",
              "      <td>41188</td>\n",
              "      <td>41188</td>\n",
              "      <td>41188</td>\n",
              "      <td>41188</td>\n",
              "      <td>41188</td>\n",
              "      <td>41188</td>\n",
              "      <td>41188</td>\n",
              "      <td>41188</td>\n",
              "      <td>41188</td>\n",
              "    </tr>\n",
              "    <tr>\n",
              "      <th>unique</th>\n",
              "      <td>12</td>\n",
              "      <td>4</td>\n",
              "      <td>8</td>\n",
              "      <td>3</td>\n",
              "      <td>3</td>\n",
              "      <td>3</td>\n",
              "      <td>2</td>\n",
              "      <td>10</td>\n",
              "      <td>5</td>\n",
              "      <td>3</td>\n",
              "      <td>9</td>\n",
              "    </tr>\n",
              "    <tr>\n",
              "      <th>top</th>\n",
              "      <td>admin.</td>\n",
              "      <td>married</td>\n",
              "      <td>university.degree</td>\n",
              "      <td>no</td>\n",
              "      <td>yes</td>\n",
              "      <td>no</td>\n",
              "      <td>cellular</td>\n",
              "      <td>may</td>\n",
              "      <td>thu</td>\n",
              "      <td>nonexistent</td>\n",
              "      <td>30-40</td>\n",
              "    </tr>\n",
              "    <tr>\n",
              "      <th>freq</th>\n",
              "      <td>10422</td>\n",
              "      <td>24928</td>\n",
              "      <td>12168</td>\n",
              "      <td>32588</td>\n",
              "      <td>21576</td>\n",
              "      <td>33950</td>\n",
              "      <td>26144</td>\n",
              "      <td>13769</td>\n",
              "      <td>8623</td>\n",
              "      <td>35563</td>\n",
              "      <td>16385</td>\n",
              "    </tr>\n",
              "  </tbody>\n",
              "</table>\n",
              "</div>"
            ],
            "text/plain": [
              "           job  marital          education default housing   loan   contact  \\\n",
              "count    41188    41188              41188   41188   41188  41188     41188   \n",
              "unique      12        4                  8       3       3      3         2   \n",
              "top     admin.  married  university.degree      no     yes     no  cellular   \n",
              "freq     10422    24928              12168   32588   21576  33950     26144   \n",
              "\n",
              "        month day_of_week     poutcome age_bin  \n",
              "count   41188       41188        41188   41188  \n",
              "unique     10           5            3       9  \n",
              "top       may         thu  nonexistent   30-40  \n",
              "freq    13769        8623        35563   16385  "
            ]
          },
          "execution_count": 10,
          "metadata": {},
          "output_type": "execute_result"
        }
      ],
      "source": [
        "bank_cust.describe()"
      ]
    },
    {
      "cell_type": "code",
      "execution_count": null,
      "id": "7d3bbc6a",
      "metadata": {
        "id": "7d3bbc6a",
        "outputId": "0db53c2c-7f39-4028-9954-b431d9072aac"
      },
      "outputs": [
        {
          "name": "stdout",
          "output_type": "stream",
          "text": [
            "<class 'pandas.core.frame.DataFrame'>\n",
            "RangeIndex: 41188 entries, 0 to 41187\n",
            "Data columns (total 11 columns):\n",
            " #   Column       Non-Null Count  Dtype   \n",
            "---  ------       --------------  -----   \n",
            " 0   job          41188 non-null  object  \n",
            " 1   marital      41188 non-null  object  \n",
            " 2   education    41188 non-null  object  \n",
            " 3   default      41188 non-null  object  \n",
            " 4   housing      41188 non-null  object  \n",
            " 5   loan         41188 non-null  object  \n",
            " 6   contact      41188 non-null  object  \n",
            " 7   month        41188 non-null  object  \n",
            " 8   day_of_week  41188 non-null  object  \n",
            " 9   poutcome     41188 non-null  object  \n",
            " 10  age_bin      41188 non-null  category\n",
            "dtypes: category(1), object(10)\n",
            "memory usage: 3.2+ MB\n"
          ]
        }
      ],
      "source": [
        "bank_cust.info()"
      ]
    },
    {
      "cell_type": "markdown",
      "id": "6da33100",
      "metadata": {
        "id": "6da33100"
      },
      "source": [
        "# Data Cleaning"
      ]
    },
    {
      "cell_type": "code",
      "execution_count": null,
      "id": "d9051313",
      "metadata": {
        "id": "d9051313",
        "outputId": "f27a274d-b76e-4d52-82cd-87187f202425"
      },
      "outputs": [
        {
          "data": {
            "text/plain": [
              "job            0.0\n",
              "marital        0.0\n",
              "education      0.0\n",
              "default        0.0\n",
              "housing        0.0\n",
              "loan           0.0\n",
              "contact        0.0\n",
              "month          0.0\n",
              "day_of_week    0.0\n",
              "poutcome       0.0\n",
              "age_bin        0.0\n",
              "dtype: float64"
            ]
          },
          "execution_count": 12,
          "metadata": {},
          "output_type": "execute_result"
        }
      ],
      "source": [
        "# Checking Null values\n",
        "bank_cust.isnull().sum()*100/bank_cust.shape[0]\n",
        "# There are no NULL values in the dataset, hence it is clean."
      ]
    },
    {
      "cell_type": "markdown",
      "id": "a093cd7d",
      "metadata": {
        "id": "a093cd7d"
      },
      "source": [
        "# Model Building"
      ]
    },
    {
      "cell_type": "code",
      "execution_count": null,
      "id": "6a238603",
      "metadata": {
        "id": "6a238603"
      },
      "outputs": [],
      "source": [
        "# First we will keep a copy of data\n",
        "bank_cust_copy = bank_cust.copy()"
      ]
    },
    {
      "cell_type": "markdown",
      "id": "3c0c25cc",
      "metadata": {
        "id": "3c0c25cc"
      },
      "source": [
        "# Data Preparation"
      ]
    },
    {
      "cell_type": "code",
      "execution_count": null,
      "id": "e4079e4c",
      "metadata": {
        "id": "e4079e4c",
        "outputId": "b692a9fc-d87d-4a74-9d1a-d0a3162ca0b0"
      },
      "outputs": [
        {
          "data": {
            "text/html": [
              "<div>\n",
              "<style scoped>\n",
              "    .dataframe tbody tr th:only-of-type {\n",
              "        vertical-align: middle;\n",
              "    }\n",
              "\n",
              "    .dataframe tbody tr th {\n",
              "        vertical-align: top;\n",
              "    }\n",
              "\n",
              "    .dataframe thead th {\n",
              "        text-align: right;\n",
              "    }\n",
              "</style>\n",
              "<table border=\"1\" class=\"dataframe\">\n",
              "  <thead>\n",
              "    <tr style=\"text-align: right;\">\n",
              "      <th></th>\n",
              "      <th>job</th>\n",
              "      <th>marital</th>\n",
              "      <th>education</th>\n",
              "      <th>default</th>\n",
              "      <th>housing</th>\n",
              "      <th>loan</th>\n",
              "      <th>contact</th>\n",
              "      <th>month</th>\n",
              "      <th>day_of_week</th>\n",
              "      <th>poutcome</th>\n",
              "      <th>age_bin</th>\n",
              "    </tr>\n",
              "  </thead>\n",
              "  <tbody>\n",
              "    <tr>\n",
              "      <th>0</th>\n",
              "      <td>3</td>\n",
              "      <td>1</td>\n",
              "      <td>0</td>\n",
              "      <td>0</td>\n",
              "      <td>0</td>\n",
              "      <td>0</td>\n",
              "      <td>1</td>\n",
              "      <td>6</td>\n",
              "      <td>1</td>\n",
              "      <td>1</td>\n",
              "      <td>4</td>\n",
              "    </tr>\n",
              "    <tr>\n",
              "      <th>1</th>\n",
              "      <td>7</td>\n",
              "      <td>1</td>\n",
              "      <td>3</td>\n",
              "      <td>1</td>\n",
              "      <td>0</td>\n",
              "      <td>0</td>\n",
              "      <td>1</td>\n",
              "      <td>6</td>\n",
              "      <td>1</td>\n",
              "      <td>1</td>\n",
              "      <td>4</td>\n",
              "    </tr>\n",
              "    <tr>\n",
              "      <th>2</th>\n",
              "      <td>7</td>\n",
              "      <td>1</td>\n",
              "      <td>3</td>\n",
              "      <td>0</td>\n",
              "      <td>2</td>\n",
              "      <td>0</td>\n",
              "      <td>1</td>\n",
              "      <td>6</td>\n",
              "      <td>1</td>\n",
              "      <td>1</td>\n",
              "      <td>2</td>\n",
              "    </tr>\n",
              "    <tr>\n",
              "      <th>3</th>\n",
              "      <td>0</td>\n",
              "      <td>1</td>\n",
              "      <td>1</td>\n",
              "      <td>0</td>\n",
              "      <td>0</td>\n",
              "      <td>0</td>\n",
              "      <td>1</td>\n",
              "      <td>6</td>\n",
              "      <td>1</td>\n",
              "      <td>1</td>\n",
              "      <td>2</td>\n",
              "    </tr>\n",
              "    <tr>\n",
              "      <th>4</th>\n",
              "      <td>7</td>\n",
              "      <td>1</td>\n",
              "      <td>3</td>\n",
              "      <td>0</td>\n",
              "      <td>0</td>\n",
              "      <td>2</td>\n",
              "      <td>1</td>\n",
              "      <td>6</td>\n",
              "      <td>1</td>\n",
              "      <td>1</td>\n",
              "      <td>4</td>\n",
              "    </tr>\n",
              "  </tbody>\n",
              "</table>\n",
              "</div>"
            ],
            "text/plain": [
              "   job  marital  education  default  housing  loan  contact  month  \\\n",
              "0    3        1          0        0        0     0        1      6   \n",
              "1    7        1          3        1        0     0        1      6   \n",
              "2    7        1          3        0        2     0        1      6   \n",
              "3    0        1          1        0        0     0        1      6   \n",
              "4    7        1          3        0        0     2        1      6   \n",
              "\n",
              "   day_of_week  poutcome  age_bin  \n",
              "0            1         1        4  \n",
              "1            1         1        4  \n",
              "2            1         1        2  \n",
              "3            1         1        2  \n",
              "4            1         1        4  "
            ]
          },
          "execution_count": 14,
          "metadata": {},
          "output_type": "execute_result"
        }
      ],
      "source": [
        "from sklearn import preprocessing\n",
        "le = preprocessing.LabelEncoder()\n",
        "bank_cust = bank_cust.apply(le.fit_transform)\n",
        "bank_cust.head()"
      ]
    },
    {
      "cell_type": "code",
      "execution_count": null,
      "id": "ae7704ac",
      "metadata": {
        "id": "ae7704ac"
      },
      "outputs": [],
      "source": [
        "# Importing Libraries\n",
        "\n",
        "from kmodes.kmodes import KModes\n"
      ]
    },
    {
      "cell_type": "markdown",
      "id": "ee7ee5f8",
      "metadata": {
        "id": "ee7ee5f8"
      },
      "source": [
        "# Using K-Mode with \"Cao\" initialization"
      ]
    },
    {
      "cell_type": "code",
      "execution_count": null,
      "id": "c6b48eb1",
      "metadata": {
        "id": "c6b48eb1",
        "outputId": "c429e814-1ae9-4c86-f726-b4d3e0a5f61d"
      },
      "outputs": [
        {
          "name": "stdout",
          "output_type": "stream",
          "text": [
            "Init: initializing centroids\n",
            "Init: initializing clusters\n",
            "Starting iterations...\n",
            "Run 1, iteration: 1/100, moves: 5322, cost: 192203.0\n",
            "Run 1, iteration: 2/100, moves: 1160, cost: 192203.0\n"
          ]
        }
      ],
      "source": [
        "km_cao = KModes(n_clusters=2, init = \"Cao\", n_init = 1, verbose=1)\n",
        "fitClusters_cao = km_cao.fit_predict(bank_cust)"
      ]
    },
    {
      "cell_type": "code",
      "execution_count": null,
      "id": "6b21d1b9",
      "metadata": {
        "id": "6b21d1b9",
        "outputId": "3a2dd6f2-75ae-4b0f-f337-d705b8109cb9"
      },
      "outputs": [
        {
          "data": {
            "text/plain": [
              "array([1, 1, 0, ..., 0, 1, 0], dtype=uint16)"
            ]
          },
          "execution_count": 17,
          "metadata": {},
          "output_type": "execute_result"
        }
      ],
      "source": [
        "# Predicted Clusters\n",
        "fitClusters_cao"
      ]
    },
    {
      "cell_type": "code",
      "execution_count": null,
      "id": "05de6862",
      "metadata": {
        "id": "05de6862"
      },
      "outputs": [],
      "source": [
        "clusterCentroidsDf = pd.DataFrame(km_cao.cluster_centroids_)\n",
        "clusterCentroidsDf.columns = bank_cust.columns"
      ]
    },
    {
      "cell_type": "code",
      "execution_count": null,
      "id": "589f6a8d",
      "metadata": {
        "id": "589f6a8d",
        "outputId": "14176ab3-5af5-496d-bad4-fc9991c0f39b"
      },
      "outputs": [
        {
          "data": {
            "text/html": [
              "<div>\n",
              "<style scoped>\n",
              "    .dataframe tbody tr th:only-of-type {\n",
              "        vertical-align: middle;\n",
              "    }\n",
              "\n",
              "    .dataframe tbody tr th {\n",
              "        vertical-align: top;\n",
              "    }\n",
              "\n",
              "    .dataframe thead th {\n",
              "        text-align: right;\n",
              "    }\n",
              "</style>\n",
              "<table border=\"1\" class=\"dataframe\">\n",
              "  <thead>\n",
              "    <tr style=\"text-align: right;\">\n",
              "      <th></th>\n",
              "      <th>job</th>\n",
              "      <th>marital</th>\n",
              "      <th>education</th>\n",
              "      <th>default</th>\n",
              "      <th>housing</th>\n",
              "      <th>loan</th>\n",
              "      <th>contact</th>\n",
              "      <th>month</th>\n",
              "      <th>day_of_week</th>\n",
              "      <th>poutcome</th>\n",
              "      <th>age_bin</th>\n",
              "    </tr>\n",
              "  </thead>\n",
              "  <tbody>\n",
              "    <tr>\n",
              "      <th>0</th>\n",
              "      <td>0</td>\n",
              "      <td>1</td>\n",
              "      <td>6</td>\n",
              "      <td>0</td>\n",
              "      <td>2</td>\n",
              "      <td>0</td>\n",
              "      <td>0</td>\n",
              "      <td>6</td>\n",
              "      <td>2</td>\n",
              "      <td>1</td>\n",
              "      <td>2</td>\n",
              "    </tr>\n",
              "    <tr>\n",
              "      <th>1</th>\n",
              "      <td>1</td>\n",
              "      <td>1</td>\n",
              "      <td>3</td>\n",
              "      <td>0</td>\n",
              "      <td>0</td>\n",
              "      <td>0</td>\n",
              "      <td>1</td>\n",
              "      <td>6</td>\n",
              "      <td>0</td>\n",
              "      <td>1</td>\n",
              "      <td>3</td>\n",
              "    </tr>\n",
              "  </tbody>\n",
              "</table>\n",
              "</div>"
            ],
            "text/plain": [
              "   job  marital  education  default  housing  loan  contact  month  \\\n",
              "0    0        1          6        0        2     0        0      6   \n",
              "1    1        1          3        0        0     0        1      6   \n",
              "\n",
              "   day_of_week  poutcome  age_bin  \n",
              "0            2         1        2  \n",
              "1            0         1        3  "
            ]
          },
          "execution_count": 19,
          "metadata": {},
          "output_type": "execute_result"
        }
      ],
      "source": [
        "# Mode of the clusters\n",
        "clusterCentroidsDf"
      ]
    },
    {
      "cell_type": "markdown",
      "id": "9c4cf904",
      "metadata": {
        "id": "9c4cf904"
      },
      "source": [
        "# Using K-Mode with \"Huang\" initialization"
      ]
    },
    {
      "cell_type": "code",
      "execution_count": null,
      "id": "10df7b03",
      "metadata": {
        "id": "10df7b03",
        "outputId": "ace8ae20-75fa-4d46-9d2a-003ce45b15b1"
      },
      "outputs": [
        {
          "name": "stdout",
          "output_type": "stream",
          "text": [
            "Init: initializing centroids\n",
            "Init: initializing clusters\n",
            "Starting iterations...\n",
            "Run 1, iteration: 1/100, moves: 7553, cost: 197525.0\n"
          ]
        }
      ],
      "source": [
        "km_huang = KModes(n_clusters=2, init = \"Huang\", n_init = 1, verbose=1)\n",
        "fitClusters_huang = km_huang.fit_predict(bank_cust)"
      ]
    },
    {
      "cell_type": "code",
      "execution_count": null,
      "id": "6e66086b",
      "metadata": {
        "id": "6e66086b",
        "outputId": "52c9d044-0fe6-4112-96f8-058bd6afe467"
      },
      "outputs": [
        {
          "data": {
            "text/plain": [
              "array([0, 0, 0, ..., 0, 1, 0], dtype=uint16)"
            ]
          },
          "execution_count": 21,
          "metadata": {},
          "output_type": "execute_result"
        }
      ],
      "source": [
        "# Predicted clusters\n",
        "fitClusters_huang"
      ]
    },
    {
      "cell_type": "markdown",
      "id": "cc6baba6",
      "metadata": {
        "id": "cc6baba6"
      },
      "source": [
        "# Choosing K by comparing Cost against each K"
      ]
    },
    {
      "cell_type": "code",
      "execution_count": null,
      "id": "01d8f391",
      "metadata": {
        "id": "01d8f391",
        "outputId": "58259a3e-fbe7-491d-d84d-b569de6f07ac"
      },
      "outputs": [
        {
          "name": "stdout",
          "output_type": "stream",
          "text": [
            "Init: initializing centroids\n",
            "Init: initializing clusters\n",
            "Starting iterations...\n",
            "Run 1, iteration: 1/100, moves: 0, cost: 216952.0\n",
            "Init: initializing centroids\n",
            "Init: initializing clusters\n",
            "Starting iterations...\n",
            "Run 1, iteration: 1/100, moves: 5322, cost: 192203.0\n",
            "Run 1, iteration: 2/100, moves: 1160, cost: 192203.0\n",
            "Init: initializing centroids\n",
            "Init: initializing clusters\n",
            "Starting iterations...\n",
            "Run 1, iteration: 1/100, moves: 4993, cost: 185138.0\n",
            "Run 1, iteration: 2/100, moves: 1368, cost: 185138.0\n",
            "Init: initializing centroids\n",
            "Init: initializing clusters\n",
            "Starting iterations...\n",
            "Run 1, iteration: 1/100, moves: 6186, cost: 179774.0\n",
            "Run 1, iteration: 2/100, moves: 1395, cost: 179774.0\n"
          ]
        }
      ],
      "source": [
        "cost = []\n",
        "for num_clusters in list(range(1,5)):\n",
        "    kmode = KModes(n_clusters=num_clusters, init = \"Cao\", n_init = 1, verbose=1)\n",
        "    kmode.fit_predict(bank_cust)\n",
        "    cost.append(kmode.cost_)"
      ]
    },
    {
      "cell_type": "code",
      "execution_count": null,
      "id": "f68dcaf9",
      "metadata": {
        "id": "f68dcaf9",
        "outputId": "027e77dc-214c-4b13-85d9-775210b537dc"
      },
      "outputs": [
        {
          "data": {
            "text/plain": [
              "[<matplotlib.lines.Line2D at 0x17edd587b80>]"
            ]
          },
          "execution_count": 23,
          "metadata": {},
          "output_type": "execute_result"
        },
        {
          "data": {
            "image/png": "[encoded data removed]",
            "text/plain": [
              "<Figure size 432x288 with 1 Axes>"
            ]
          },
          "metadata": {
            "needs_background": "light"
          },
          "output_type": "display_data"
        }
      ],
      "source": [
        "y = np.array([i for i in range(1,5,1)])\n",
        "plt.plot(y,cost)"
      ]
    },
    {
      "cell_type": "code",
      "execution_count": null,
      "id": "ca660a15",
      "metadata": {
        "id": "ca660a15"
      },
      "outputs": [],
      "source": [
        "## Choosing K=2"
      ]
    },
    {
      "cell_type": "code",
      "execution_count": null,
      "id": "ad60b8f4",
      "metadata": {
        "id": "ad60b8f4",
        "outputId": "73a1d5e6-2783-49d7-cd60-0ee9663090e6"
      },
      "outputs": [
        {
          "name": "stdout",
          "output_type": "stream",
          "text": [
            "Init: initializing centroids\n",
            "Init: initializing clusters\n",
            "Starting iterations...\n",
            "Run 1, iteration: 1/100, moves: 5322, cost: 192203.0\n",
            "Run 1, iteration: 2/100, moves: 1160, cost: 192203.0\n"
          ]
        }
      ],
      "source": [
        "km_cao = KModes(n_clusters=2, init = \"Cao\", n_init = 1, verbose=1)\n",
        "fitClusters_cao = km_cao.fit_predict(bank_cust)"
      ]
    },
    {
      "cell_type": "code",
      "execution_count": null,
      "id": "d9929d09",
      "metadata": {
        "id": "d9929d09",
        "outputId": "975fcb71-67aa-42c2-aa22-d5b941621aa2"
      },
      "outputs": [
        {
          "data": {
            "text/plain": [
              "array([1, 1, 0, ..., 0, 1, 0], dtype=uint16)"
            ]
          },
          "execution_count": 26,
          "metadata": {},
          "output_type": "execute_result"
        }
      ],
      "source": [
        "fitClusters_cao"
      ]
    },
    {
      "cell_type": "markdown",
      "id": "e8f414a4",
      "metadata": {
        "id": "e8f414a4"
      },
      "source": [
        "# Combining the predicted clusters with the original DF."
      ]
    },
    {
      "cell_type": "code",
      "execution_count": null,
      "id": "8811ee82",
      "metadata": {
        "id": "8811ee82"
      },
      "outputs": [],
      "source": [
        "bank_cust = bank_cust_copy.reset_index()"
      ]
    },
    {
      "cell_type": "code",
      "execution_count": null,
      "id": "ebecfc03",
      "metadata": {
        "id": "ebecfc03"
      },
      "outputs": [],
      "source": [
        "clustersDf = pd.DataFrame(fitClusters_cao)\n",
        "clustersDf.columns = ['cluster_predicted']\n",
        "combinedDf = pd.concat([bank_cust, clustersDf], axis = 1).reset_index()\n",
        "combinedDf = combinedDf.drop(['index', 'level_0'], axis = 1)"
      ]
    },
    {
      "cell_type": "code",
      "execution_count": null,
      "id": "3b8febbb",
      "metadata": {
        "id": "3b8febbb",
        "outputId": "4e750a0e-454c-47da-8cca-5bd37dfd7cf0"
      },
      "outputs": [
        {
          "data": {
            "text/html": [
              "<div>\n",
              "<style scoped>\n",
              "    .dataframe tbody tr th:only-of-type {\n",
              "        vertical-align: middle;\n",
              "    }\n",
              "\n",
              "    .dataframe tbody tr th {\n",
              "        vertical-align: top;\n",
              "    }\n",
              "\n",
              "    .dataframe thead th {\n",
              "        text-align: right;\n",
              "    }\n",
              "</style>\n",
              "<table border=\"1\" class=\"dataframe\">\n",
              "  <thead>\n",
              "    <tr style=\"text-align: right;\">\n",
              "      <th></th>\n",
              "      <th>job</th>\n",
              "      <th>marital</th>\n",
              "      <th>education</th>\n",
              "      <th>default</th>\n",
              "      <th>housing</th>\n",
              "      <th>loan</th>\n",
              "      <th>contact</th>\n",
              "      <th>month</th>\n",
              "      <th>day_of_week</th>\n",
              "      <th>poutcome</th>\n",
              "      <th>age_bin</th>\n",
              "      <th>cluster_predicted</th>\n",
              "    </tr>\n",
              "  </thead>\n",
              "  <tbody>\n",
              "    <tr>\n",
              "      <th>0</th>\n",
              "      <td>housemaid</td>\n",
              "      <td>married</td>\n",
              "      <td>basic.4y</td>\n",
              "      <td>no</td>\n",
              "      <td>no</td>\n",
              "      <td>no</td>\n",
              "      <td>telephone</td>\n",
              "      <td>may</td>\n",
              "      <td>mon</td>\n",
              "      <td>nonexistent</td>\n",
              "      <td>50-60</td>\n",
              "      <td>1</td>\n",
              "    </tr>\n",
              "    <tr>\n",
              "      <th>1</th>\n",
              "      <td>services</td>\n",
              "      <td>married</td>\n",
              "      <td>high.school</td>\n",
              "      <td>unknown</td>\n",
              "      <td>no</td>\n",
              "      <td>no</td>\n",
              "      <td>telephone</td>\n",
              "      <td>may</td>\n",
              "      <td>mon</td>\n",
              "      <td>nonexistent</td>\n",
              "      <td>50-60</td>\n",
              "      <td>1</td>\n",
              "    </tr>\n",
              "    <tr>\n",
              "      <th>2</th>\n",
              "      <td>services</td>\n",
              "      <td>married</td>\n",
              "      <td>high.school</td>\n",
              "      <td>no</td>\n",
              "      <td>yes</td>\n",
              "      <td>no</td>\n",
              "      <td>telephone</td>\n",
              "      <td>may</td>\n",
              "      <td>mon</td>\n",
              "      <td>nonexistent</td>\n",
              "      <td>30-40</td>\n",
              "      <td>0</td>\n",
              "    </tr>\n",
              "    <tr>\n",
              "      <th>3</th>\n",
              "      <td>admin.</td>\n",
              "      <td>married</td>\n",
              "      <td>basic.6y</td>\n",
              "      <td>no</td>\n",
              "      <td>no</td>\n",
              "      <td>no</td>\n",
              "      <td>telephone</td>\n",
              "      <td>may</td>\n",
              "      <td>mon</td>\n",
              "      <td>nonexistent</td>\n",
              "      <td>30-40</td>\n",
              "      <td>0</td>\n",
              "    </tr>\n",
              "    <tr>\n",
              "      <th>4</th>\n",
              "      <td>services</td>\n",
              "      <td>married</td>\n",
              "      <td>high.school</td>\n",
              "      <td>no</td>\n",
              "      <td>no</td>\n",
              "      <td>yes</td>\n",
              "      <td>telephone</td>\n",
              "      <td>may</td>\n",
              "      <td>mon</td>\n",
              "      <td>nonexistent</td>\n",
              "      <td>50-60</td>\n",
              "      <td>1</td>\n",
              "    </tr>\n",
              "  </tbody>\n",
              "</table>\n",
              "</div>"
            ],
            "text/plain": [
              "         job  marital    education  default housing loan    contact month  \\\n",
              "0  housemaid  married     basic.4y       no      no   no  telephone   may   \n",
              "1   services  married  high.school  unknown      no   no  telephone   may   \n",
              "2   services  married  high.school       no     yes   no  telephone   may   \n",
              "3     admin.  married     basic.6y       no      no   no  telephone   may   \n",
              "4   services  married  high.school       no      no  yes  telephone   may   \n",
              "\n",
              "  day_of_week     poutcome age_bin  cluster_predicted  \n",
              "0         mon  nonexistent   50-60                  1  \n",
              "1         mon  nonexistent   50-60                  1  \n",
              "2         mon  nonexistent   30-40                  0  \n",
              "3         mon  nonexistent   30-40                  0  \n",
              "4         mon  nonexistent   50-60                  1  "
            ]
          },
          "execution_count": 29,
          "metadata": {},
          "output_type": "execute_result"
        }
      ],
      "source": [
        "combinedDf.head()"
      ]
    },
    {
      "cell_type": "markdown",
      "id": "b5cdfb99",
      "metadata": {
        "id": "b5cdfb99"
      },
      "source": [
        "# Cluster Identification"
      ]
    },
    {
      "cell_type": "code",
      "execution_count": null,
      "id": "89813a3a",
      "metadata": {
        "id": "89813a3a"
      },
      "outputs": [],
      "source": [
        "cluster_0 = combinedDf[combinedDf['cluster_predicted'] == 0]\n",
        "cluster_1 = combinedDf[combinedDf['cluster_predicted'] == 1]"
      ]
    },
    {
      "cell_type": "code",
      "execution_count": null,
      "id": "62b4cce7",
      "metadata": {
        "id": "62b4cce7",
        "outputId": "3eef15c8-b907-4723-e123-6d96d9b32802"
      },
      "outputs": [
        {
          "name": "stdout",
          "output_type": "stream",
          "text": [
            "<class 'pandas.core.frame.DataFrame'>\n",
            "Int64Index: 28293 entries, 2 to 41187\n",
            "Data columns (total 12 columns):\n",
            " #   Column             Non-Null Count  Dtype   \n",
            "---  ------             --------------  -----   \n",
            " 0   job                28293 non-null  object  \n",
            " 1   marital            28293 non-null  object  \n",
            " 2   education          28293 non-null  object  \n",
            " 3   default            28293 non-null  object  \n",
            " 4   housing            28293 non-null  object  \n",
            " 5   loan               28293 non-null  object  \n",
            " 6   contact            28293 non-null  object  \n",
            " 7   month              28293 non-null  object  \n",
            " 8   day_of_week        28293 non-null  object  \n",
            " 9   poutcome           28293 non-null  object  \n",
            " 10  age_bin            28293 non-null  category\n",
            " 11  cluster_predicted  28293 non-null  uint16  \n",
            "dtypes: category(1), object(10), uint16(1)\n",
            "memory usage: 2.5+ MB\n"
          ]
        }
      ],
      "source": [
        "cluster_0.info()"
      ]
    },
    {
      "cell_type": "code",
      "execution_count": null,
      "id": "2a7f5c7c",
      "metadata": {
        "id": "2a7f5c7c",
        "outputId": "03b9f0ca-82b7-40d7-a16c-20b081ff6a80"
      },
      "outputs": [
        {
          "name": "stdout",
          "output_type": "stream",
          "text": [
            "<class 'pandas.core.frame.DataFrame'>\n",
            "Int64Index: 12895 entries, 0 to 41186\n",
            "Data columns (total 12 columns):\n",
            " #   Column             Non-Null Count  Dtype   \n",
            "---  ------             --------------  -----   \n",
            " 0   job                12895 non-null  object  \n",
            " 1   marital            12895 non-null  object  \n",
            " 2   education          12895 non-null  object  \n",
            " 3   default            12895 non-null  object  \n",
            " 4   housing            12895 non-null  object  \n",
            " 5   loan               12895 non-null  object  \n",
            " 6   contact            12895 non-null  object  \n",
            " 7   month              12895 non-null  object  \n",
            " 8   day_of_week        12895 non-null  object  \n",
            " 9   poutcome           12895 non-null  object  \n",
            " 10  age_bin            12895 non-null  category\n",
            " 11  cluster_predicted  12895 non-null  uint16  \n",
            "dtypes: category(1), object(10), uint16(1)\n",
            "memory usage: 1.1+ MB\n"
          ]
        }
      ],
      "source": [
        "cluster_1.info()\n"
      ]
    },
    {
      "cell_type": "code",
      "execution_count": null,
      "id": "1db6e47e",
      "metadata": {
        "id": "1db6e47e"
      },
      "outputs": [],
      "source": [
        ""
      ]
    }
  ],
  "metadata": {
    "kernelspec": {
      "display_name": "Python 3",
      "language": "python",
      "name": "python3"
    },
    "language_info": {
      "codemirror_mode": {
        "name": "ipython",
        "version": 3
      },
      "file_extension": ".py",
      "mimetype": "text/x-python",
      "name": "python",
      "nbconvert_exporter": "python",
      "pygments_lexer": "ipython3",
      "version": "3.8.8"
    },
    "colab": {
      "name": "kmode_clustering.ipynb",
      "provenance": [],
      "include_colab_link": true
    }
  },
  "nbformat": 4,
  "nbformat_minor": 5
}